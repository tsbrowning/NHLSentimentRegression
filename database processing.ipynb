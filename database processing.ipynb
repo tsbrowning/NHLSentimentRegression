{
 "cells": [
  {
   "cell_type": "markdown",
   "metadata": {},
   "source": [
    "## SETUP "
   ]
  },
  {
   "cell_type": "code",
   "execution_count": 1,
   "metadata": {},
   "outputs": [],
   "source": [
    "#import libraries\n",
    "import pandas as pd\n",
    "import sqlite3"
   ]
  },
  {
   "cell_type": "code",
   "execution_count": 4,
   "metadata": {},
   "outputs": [],
   "source": [
    "#df = pd.DataFrame(#data here :/)\n",
    "\n",
    "df = pd.DataFrame({'name': ['Juan', 'Victoria', 'Mary'], \\\n",
    "'age': [23, 34, 43], 'city': ['Miami', 'Buenos Aries', 'Santiago']})\n"
   ]
  },
  {
   "cell_type": "code",
   "execution_count": 5,
   "metadata": {},
   "outputs": [
    {
     "data": {
      "text/html": [
       "<div>\n",
       "<style scoped>\n",
       "    .dataframe tbody tr th:only-of-type {\n",
       "        vertical-align: middle;\n",
       "    }\n",
       "\n",
       "    .dataframe tbody tr th {\n",
       "        vertical-align: top;\n",
       "    }\n",
       "\n",
       "    .dataframe thead th {\n",
       "        text-align: right;\n",
       "    }\n",
       "</style>\n",
       "<table border=\"1\" class=\"dataframe\">\n",
       "  <thead>\n",
       "    <tr style=\"text-align: right;\">\n",
       "      <th></th>\n",
       "      <th>name</th>\n",
       "      <th>age</th>\n",
       "      <th>city</th>\n",
       "    </tr>\n",
       "  </thead>\n",
       "  <tbody>\n",
       "    <tr>\n",
       "      <th>0</th>\n",
       "      <td>Juan</td>\n",
       "      <td>23</td>\n",
       "      <td>Miami</td>\n",
       "    </tr>\n",
       "    <tr>\n",
       "      <th>1</th>\n",
       "      <td>Victoria</td>\n",
       "      <td>34</td>\n",
       "      <td>Buenos Aries</td>\n",
       "    </tr>\n",
       "    <tr>\n",
       "      <th>2</th>\n",
       "      <td>Mary</td>\n",
       "      <td>43</td>\n",
       "      <td>Santiago</td>\n",
       "    </tr>\n",
       "  </tbody>\n",
       "</table>\n",
       "</div>"
      ],
      "text/plain": [
       "       name  age          city\n",
       "0      Juan   23         Miami\n",
       "1  Victoria   34  Buenos Aries\n",
       "2      Mary   43      Santiago"
      ]
     },
     "execution_count": 5,
     "metadata": {},
     "output_type": "execute_result"
    }
   ],
   "source": [
    "df"
   ]
  },
  {
   "cell_type": "code",
   "execution_count": 7,
   "metadata": {},
   "outputs": [],
   "source": [
    "#We will sqlite3 library and create a connection\n",
    "cnn = sqlite3.connect('jupyter_sql_tutorial.db')"
   ]
  },
  {
   "cell_type": "code",
   "execution_count": 11,
   "metadata": {},
   "outputs": [],
   "source": [
    "df.to_sql('people', cnn)"
   ]
  },
  {
   "cell_type": "code",
   "execution_count": 12,
   "metadata": {},
   "outputs": [
    {
     "name": "stdout",
     "output_type": "stream",
     "text": [
      "The sql extension is already loaded. To reload it, use:\n",
      "  %reload_ext sql\n"
     ]
    }
   ],
   "source": [
    "%load_ext sql"
   ]
  },
  {
   "cell_type": "code",
   "execution_count": 15,
   "metadata": {},
   "outputs": [],
   "source": [
    "%sql sqlite:///jupyter_sql_tutorial.db"
   ]
  },
  {
   "cell_type": "code",
   "execution_count": 17,
   "metadata": {},
   "outputs": [
    {
     "name": "stdout",
     "output_type": "stream",
     "text": [
      " * sqlite:///jupyter_sql_tutorial.db\n",
      "Done.\n"
     ]
    },
    {
     "data": {
      "text/html": [
       "<table>\n",
       "    <tr>\n",
       "        <th>index</th>\n",
       "        <th>name</th>\n",
       "        <th>age</th>\n",
       "        <th>city</th>\n",
       "    </tr>\n",
       "    <tr>\n",
       "        <td>0</td>\n",
       "        <td>Juan</td>\n",
       "        <td>23</td>\n",
       "        <td>Miami</td>\n",
       "    </tr>\n",
       "    <tr>\n",
       "        <td>1</td>\n",
       "        <td>Victoria</td>\n",
       "        <td>34</td>\n",
       "        <td>Buenos Aries</td>\n",
       "    </tr>\n",
       "    <tr>\n",
       "        <td>2</td>\n",
       "        <td>Mary</td>\n",
       "        <td>43</td>\n",
       "        <td>Santiago</td>\n",
       "    </tr>\n",
       "</table>"
      ],
      "text/plain": [
       "[(0, 'Juan', 23, 'Miami'),\n",
       " (1, 'Victoria', 34, 'Buenos Aries'),\n",
       " (2, 'Mary', 43, 'Santiago')]"
      ]
     },
     "execution_count": 17,
     "metadata": {},
     "output_type": "execute_result"
    }
   ],
   "source": [
    "%%sql\n",
    "SELECT *\n",
    "FROM people"
   ]
  },
  {
   "cell_type": "code",
   "execution_count": 18,
   "metadata": {},
   "outputs": [
    {
     "name": "stdout",
     "output_type": "stream",
     "text": [
      " * sqlite:///jupyter_sql_tutorial.db\n",
      "Done.\n"
     ]
    },
    {
     "data": {
      "text/html": [
       "<table>\n",
       "    <tr>\n",
       "        <th>count(*)</th>\n",
       "    </tr>\n",
       "    <tr>\n",
       "        <td>3</td>\n",
       "    </tr>\n",
       "</table>"
      ],
      "text/plain": [
       "[(3,)]"
      ]
     },
     "execution_count": 18,
     "metadata": {},
     "output_type": "execute_result"
    }
   ],
   "source": [
    "%%sql\n",
    "SELECT count(*)\n",
    "FROM people"
   ]
  },
  {
   "cell_type": "code",
   "execution_count": 19,
   "metadata": {},
   "outputs": [
    {
     "name": "stdout",
     "output_type": "stream",
     "text": [
      " * sqlite:///jupyter_sql_tutorial.db\n",
      "Done.\n"
     ]
    },
    {
     "data": {
      "text/html": [
       "<table>\n",
       "    <tr>\n",
       "        <th>age_sum</th>\n",
       "    </tr>\n",
       "    <tr>\n",
       "        <td>100</td>\n",
       "    </tr>\n",
       "</table>"
      ],
      "text/plain": [
       "[(100,)]"
      ]
     },
     "execution_count": 19,
     "metadata": {},
     "output_type": "execute_result"
    }
   ],
   "source": [
    "%%sql\n",
    "SELECT sum(age) as 'age_sum'\n",
    "FROM people"
   ]
  },
  {
   "cell_type": "markdown",
   "metadata": {},
   "source": [
    "## Parameters walkthrough"
   ]
  },
  {
   "cell_type": "code",
   "execution_count": 20,
   "metadata": {},
   "outputs": [],
   "source": [
    "#create dummy dataframe\n",
    "df = pd.DataFrame({'transaction_id': ['9', '8', '7', '6', '5', '4', '3'], \\\n",
    "                  'user_id': ['rafa', 'roy', 'kenny', 'brendan', 'jurgen', 'roy', 'roy'],\\\n",
    "                  'transaction_date': ['2021-12-21', '2020-12-21', '2019-12-21',\\\n",
    "                                       '2018-11-21', '2017-10-21', '2019-03-02', '2010-01-01'],\\\n",
    "                  'amount': ['10', '15', '20', '24', '25', '31', '42']})"
   ]
  },
  {
   "cell_type": "code",
   "execution_count": 21,
   "metadata": {},
   "outputs": [
    {
     "data": {
      "text/html": [
       "<div>\n",
       "<style scoped>\n",
       "    .dataframe tbody tr th:only-of-type {\n",
       "        vertical-align: middle;\n",
       "    }\n",
       "\n",
       "    .dataframe tbody tr th {\n",
       "        vertical-align: top;\n",
       "    }\n",
       "\n",
       "    .dataframe thead th {\n",
       "        text-align: right;\n",
       "    }\n",
       "</style>\n",
       "<table border=\"1\" class=\"dataframe\">\n",
       "  <thead>\n",
       "    <tr style=\"text-align: right;\">\n",
       "      <th></th>\n",
       "      <th>transaction_id</th>\n",
       "      <th>user_id</th>\n",
       "      <th>transaction_date</th>\n",
       "      <th>amount</th>\n",
       "    </tr>\n",
       "  </thead>\n",
       "  <tbody>\n",
       "    <tr>\n",
       "      <th>0</th>\n",
       "      <td>9</td>\n",
       "      <td>rafa</td>\n",
       "      <td>2021-12-21</td>\n",
       "      <td>10</td>\n",
       "    </tr>\n",
       "    <tr>\n",
       "      <th>1</th>\n",
       "      <td>8</td>\n",
       "      <td>roy</td>\n",
       "      <td>2020-12-21</td>\n",
       "      <td>15</td>\n",
       "    </tr>\n",
       "    <tr>\n",
       "      <th>2</th>\n",
       "      <td>7</td>\n",
       "      <td>kenny</td>\n",
       "      <td>2019-12-21</td>\n",
       "      <td>20</td>\n",
       "    </tr>\n",
       "    <tr>\n",
       "      <th>3</th>\n",
       "      <td>6</td>\n",
       "      <td>brendan</td>\n",
       "      <td>2018-11-21</td>\n",
       "      <td>24</td>\n",
       "    </tr>\n",
       "    <tr>\n",
       "      <th>4</th>\n",
       "      <td>5</td>\n",
       "      <td>jurgen</td>\n",
       "      <td>2017-10-21</td>\n",
       "      <td>25</td>\n",
       "    </tr>\n",
       "    <tr>\n",
       "      <th>5</th>\n",
       "      <td>4</td>\n",
       "      <td>roy</td>\n",
       "      <td>2019-03-02</td>\n",
       "      <td>31</td>\n",
       "    </tr>\n",
       "    <tr>\n",
       "      <th>6</th>\n",
       "      <td>3</td>\n",
       "      <td>roy</td>\n",
       "      <td>2010-01-01</td>\n",
       "      <td>42</td>\n",
       "    </tr>\n",
       "  </tbody>\n",
       "</table>\n",
       "</div>"
      ],
      "text/plain": [
       "  transaction_id  user_id transaction_date amount\n",
       "0              9     rafa       2021-12-21     10\n",
       "1              8      roy       2020-12-21     15\n",
       "2              7    kenny       2019-12-21     20\n",
       "3              6  brendan       2018-11-21     24\n",
       "4              5   jurgen       2017-10-21     25\n",
       "5              4      roy       2019-03-02     31\n",
       "6              3      roy       2010-01-01     42"
      ]
     },
     "execution_count": 21,
     "metadata": {},
     "output_type": "execute_result"
    }
   ],
   "source": [
    "df"
   ]
  },
  {
   "cell_type": "code",
   "execution_count": 22,
   "metadata": {},
   "outputs": [],
   "source": [
    "#We will sqlite3 library and create a connection\n",
    "cnn = sqlite3.connect('dummy.db')"
   ]
  },
  {
   "cell_type": "code",
   "execution_count": 29,
   "metadata": {},
   "outputs": [],
   "source": [
    "df.to_sql('managers1', cnn)"
   ]
  },
  {
   "cell_type": "code",
   "execution_count": 30,
   "metadata": {},
   "outputs": [],
   "source": [
    "%reload_ext sql"
   ]
  },
  {
   "cell_type": "code",
   "execution_count": 31,
   "metadata": {},
   "outputs": [],
   "source": [
    "%sql sqlite:///dummy.db"
   ]
  },
  {
   "cell_type": "code",
   "execution_count": 32,
   "metadata": {},
   "outputs": [
    {
     "name": "stdout",
     "output_type": "stream",
     "text": [
      " * sqlite:///dummy.db\n",
      "Done.\n"
     ]
    },
    {
     "data": {
      "text/html": [
       "<table>\n",
       "    <tr>\n",
       "        <th>index</th>\n",
       "        <th>transaction_id</th>\n",
       "        <th>user_id</th>\n",
       "        <th>transaction_date</th>\n",
       "        <th>amount</th>\n",
       "    </tr>\n",
       "    <tr>\n",
       "        <td>0</td>\n",
       "        <td>9</td>\n",
       "        <td>rafa</td>\n",
       "        <td>2021-12-21</td>\n",
       "        <td>10</td>\n",
       "    </tr>\n",
       "    <tr>\n",
       "        <td>1</td>\n",
       "        <td>8</td>\n",
       "        <td>roy</td>\n",
       "        <td>2020-12-21</td>\n",
       "        <td>15</td>\n",
       "    </tr>\n",
       "    <tr>\n",
       "        <td>2</td>\n",
       "        <td>7</td>\n",
       "        <td>kenny</td>\n",
       "        <td>2019-12-21</td>\n",
       "        <td>20</td>\n",
       "    </tr>\n",
       "    <tr>\n",
       "        <td>3</td>\n",
       "        <td>6</td>\n",
       "        <td>brendan</td>\n",
       "        <td>2018-11-21</td>\n",
       "        <td>24</td>\n",
       "    </tr>\n",
       "    <tr>\n",
       "        <td>4</td>\n",
       "        <td>5</td>\n",
       "        <td>jurgen</td>\n",
       "        <td>2017-10-21</td>\n",
       "        <td>25</td>\n",
       "    </tr>\n",
       "    <tr>\n",
       "        <td>5</td>\n",
       "        <td>4</td>\n",
       "        <td>roy</td>\n",
       "        <td>2019-03-02</td>\n",
       "        <td>31</td>\n",
       "    </tr>\n",
       "    <tr>\n",
       "        <td>6</td>\n",
       "        <td>3</td>\n",
       "        <td>roy</td>\n",
       "        <td>2010-01-01</td>\n",
       "        <td>42</td>\n",
       "    </tr>\n",
       "</table>"
      ],
      "text/plain": [
       "[(0, '9', 'rafa', '2021-12-21', '10'),\n",
       " (1, '8', 'roy', '2020-12-21', '15'),\n",
       " (2, '7', 'kenny', '2019-12-21', '20'),\n",
       " (3, '6', 'brendan', '2018-11-21', '24'),\n",
       " (4, '5', 'jurgen', '2017-10-21', '25'),\n",
       " (5, '4', 'roy', '2019-03-02', '31'),\n",
       " (6, '3', 'roy', '2010-01-01', '42')]"
      ]
     },
     "execution_count": 32,
     "metadata": {},
     "output_type": "execute_result"
    }
   ],
   "source": [
    "%%sql\n",
    "SELECT *\n",
    "FROM managers1"
   ]
  },
  {
   "cell_type": "code",
   "execution_count": 34,
   "metadata": {},
   "outputs": [
    {
     "name": "stdout",
     "output_type": "stream",
     "text": [
      " * sqlite:///dummy.db\n",
      "Done.\n"
     ]
    },
    {
     "data": {
      "text/html": [
       "<table>\n",
       "    <tr>\n",
       "        <th>spend_sum</th>\n",
       "    </tr>\n",
       "    <tr>\n",
       "        <td>167</td>\n",
       "    </tr>\n",
       "</table>"
      ],
      "text/plain": [
       "[(167,)]"
      ]
     },
     "execution_count": 34,
     "metadata": {},
     "output_type": "execute_result"
    }
   ],
   "source": [
    "%%sql\n",
    "SELECT sum(amount) as 'spend_sum'\n",
    "FROM managers1"
   ]
  },
  {
   "cell_type": "code",
   "execution_count": 35,
   "metadata": {},
   "outputs": [
    {
     "name": "stdout",
     "output_type": "stream",
     "text": [
      " * sqlite:///dummy.db\n",
      "Done.\n"
     ]
    },
    {
     "data": {
      "text/html": [
       "<table>\n",
       "    <tr>\n",
       "        <th>user_id</th>\n",
       "        <th>num_transactions</th>\n",
       "        <th>total_amount</th>\n",
       "    </tr>\n",
       "    <tr>\n",
       "        <td>roy</td>\n",
       "        <td>1</td>\n",
       "        <td>31</td>\n",
       "    </tr>\n",
       "</table>"
      ],
      "text/plain": [
       "[('roy', 1, 31)]"
      ]
     },
     "execution_count": 35,
     "metadata": {},
     "output_type": "execute_result"
    }
   ],
   "source": [
    "%%sql\n",
    "SELECT \n",
    "    user_id\n",
    "    , count(*) as num_transactions\n",
    "    , sum(amount) as total_amount\n",
    "FROM\n",
    "    managers1\n",
    "WHERE\n",
    "    user_id = 'roy'\n",
    "    and transaction_date = '2019-03-02'"
   ]
  },
  {
   "cell_type": "markdown",
   "metadata": {},
   "source": [
    "## For real this time"
   ]
  },
  {
   "cell_type": "markdown",
   "metadata": {},
   "source": [
    "ovechal01, ovi8\n",
    "\n",
    "1228 * 11,\n"
   ]
  },
  {
   "cell_type": "code",
   "execution_count": 1,
   "metadata": {},
   "outputs": [],
   "source": [
    "#import libraries\n",
    "import pandas as pd\n",
    "import sqlite3"
   ]
  },
  {
   "cell_type": "code",
   "execution_count": 17,
   "metadata": {},
   "outputs": [
    {
     "name": "stdout",
     "output_type": "stream",
     "text": [
      "stat handle:lehnero01\n"
     ]
    }
   ],
   "source": [
    "stat_handle = input('stat handle:')\n",
    "stat_sheet = f'./data/{stat_handle}_stats.csv'\n",
    "stat_df = pd.read_csv(stat_sheet, sep= '\\t', header= 0, index_col= None)"
   ]
  },
  {
   "cell_type": "code",
   "execution_count": 18,
   "metadata": {},
   "outputs": [
    {
     "data": {
      "text/html": [
       "<div>\n",
       "<style scoped>\n",
       "    .dataframe tbody tr th:only-of-type {\n",
       "        vertical-align: middle;\n",
       "    }\n",
       "\n",
       "    .dataframe tbody tr th {\n",
       "        vertical-align: top;\n",
       "    }\n",
       "\n",
       "    .dataframe thead th {\n",
       "        text-align: right;\n",
       "    }\n",
       "</style>\n",
       "<table border=\"1\" class=\"dataframe\">\n",
       "  <thead>\n",
       "    <tr style=\"text-align: right;\">\n",
       "      <th></th>\n",
       "      <th>puckdrop</th>\n",
       "      <th>decision</th>\n",
       "      <th>goals against</th>\n",
       "      <th>shots against</th>\n",
       "      <th>saves</th>\n",
       "      <th>save %</th>\n",
       "    </tr>\n",
       "  </thead>\n",
       "  <tbody>\n",
       "    <tr>\n",
       "      <th>0</th>\n",
       "      <td>2013-02-28 19:00:00-05:00</td>\n",
       "      <td>O</td>\n",
       "      <td>2</td>\n",
       "      <td>46</td>\n",
       "      <td>44</td>\n",
       "      <td>0.957</td>\n",
       "    </tr>\n",
       "    <tr>\n",
       "      <th>1</th>\n",
       "      <td>2013-03-03 15:00:00-05:00</td>\n",
       "      <td>O</td>\n",
       "      <td>2</td>\n",
       "      <td>35</td>\n",
       "      <td>33</td>\n",
       "      <td>0.943</td>\n",
       "    </tr>\n",
       "    <tr>\n",
       "      <th>2</th>\n",
       "      <td>2013-03-08 19:00:00-05:00</td>\n",
       "      <td>W</td>\n",
       "      <td>2</td>\n",
       "      <td>35</td>\n",
       "      <td>33</td>\n",
       "      <td>0.943</td>\n",
       "    </tr>\n",
       "    <tr>\n",
       "      <th>3</th>\n",
       "      <td>2013-03-11 19:30:00-04:00</td>\n",
       "      <td>O</td>\n",
       "      <td>2</td>\n",
       "      <td>35</td>\n",
       "      <td>33</td>\n",
       "      <td>0.943</td>\n",
       "    </tr>\n",
       "    <tr>\n",
       "      <th>4</th>\n",
       "      <td>2013-03-13 19:00:00-04:00</td>\n",
       "      <td>O</td>\n",
       "      <td>3</td>\n",
       "      <td>45</td>\n",
       "      <td>42</td>\n",
       "      <td>0.933</td>\n",
       "    </tr>\n",
       "    <tr>\n",
       "      <th>...</th>\n",
       "      <td>...</td>\n",
       "      <td>...</td>\n",
       "      <td>...</td>\n",
       "      <td>...</td>\n",
       "      <td>...</td>\n",
       "      <td>...</td>\n",
       "    </tr>\n",
       "    <tr>\n",
       "      <th>327</th>\n",
       "      <td>2021-12-12 21:00:00-05:00</td>\n",
       "      <td>W</td>\n",
       "      <td>4</td>\n",
       "      <td>27</td>\n",
       "      <td>23</td>\n",
       "      <td>0.852</td>\n",
       "    </tr>\n",
       "    <tr>\n",
       "      <th>328</th>\n",
       "      <td>2021-12-14 19:00:00-05:00</td>\n",
       "      <td>W</td>\n",
       "      <td>1</td>\n",
       "      <td>24</td>\n",
       "      <td>23</td>\n",
       "      <td>0.958</td>\n",
       "    </tr>\n",
       "    <tr>\n",
       "      <th>329</th>\n",
       "      <td>2021-12-16 19:00:00-05:00</td>\n",
       "      <td>W</td>\n",
       "      <td>3</td>\n",
       "      <td>26</td>\n",
       "      <td>23</td>\n",
       "      <td>0.885</td>\n",
       "    </tr>\n",
       "    <tr>\n",
       "      <th>330</th>\n",
       "      <td>2021-12-19 14:00:00-05:00</td>\n",
       "      <td>W</td>\n",
       "      <td>3</td>\n",
       "      <td>32</td>\n",
       "      <td>29</td>\n",
       "      <td>0.906</td>\n",
       "    </tr>\n",
       "    <tr>\n",
       "      <th>331</th>\n",
       "      <td>2022-01-06 22:00:00-05:00</td>\n",
       "      <td>W</td>\n",
       "      <td>1</td>\n",
       "      <td>19</td>\n",
       "      <td>18</td>\n",
       "      <td>0.947</td>\n",
       "    </tr>\n",
       "  </tbody>\n",
       "</table>\n",
       "<p>332 rows × 6 columns</p>\n",
       "</div>"
      ],
      "text/plain": [
       "                      puckdrop decision  goals against  shots against  saves  \\\n",
       "0    2013-02-28 19:00:00-05:00        O              2             46     44   \n",
       "1    2013-03-03 15:00:00-05:00        O              2             35     33   \n",
       "2    2013-03-08 19:00:00-05:00        W              2             35     33   \n",
       "3    2013-03-11 19:30:00-04:00        O              2             35     33   \n",
       "4    2013-03-13 19:00:00-04:00        O              3             45     42   \n",
       "..                         ...      ...            ...            ...    ...   \n",
       "327  2021-12-12 21:00:00-05:00        W              4             27     23   \n",
       "328  2021-12-14 19:00:00-05:00        W              1             24     23   \n",
       "329  2021-12-16 19:00:00-05:00        W              3             26     23   \n",
       "330  2021-12-19 14:00:00-05:00        W              3             32     29   \n",
       "331  2022-01-06 22:00:00-05:00        W              1             19     18   \n",
       "\n",
       "     save %  \n",
       "0     0.957  \n",
       "1     0.943  \n",
       "2     0.943  \n",
       "3     0.943  \n",
       "4     0.933  \n",
       "..      ...  \n",
       "327   0.852  \n",
       "328   0.958  \n",
       "329   0.885  \n",
       "330   0.906  \n",
       "331   0.947  \n",
       "\n",
       "[332 rows x 6 columns]"
      ]
     },
     "execution_count": 18,
     "metadata": {},
     "output_type": "execute_result"
    }
   ],
   "source": [
    "stat_df"
   ]
  },
  {
   "cell_type": "code",
   "execution_count": 19,
   "metadata": {},
   "outputs": [
    {
     "name": "stdout",
     "output_type": "stream",
     "text": [
      "twitter handle:robinlehner\n"
     ]
    }
   ],
   "source": [
    "stat_handle = input('twitter handle:')\n",
    "stat_sheet = f'./data/{stat_handle}.csv'\n",
    "twitter_df = pd.read_csv(stat_sheet, sep= '\\t', header= 0, index_col= None)"
   ]
  },
  {
   "cell_type": "code",
   "execution_count": 20,
   "metadata": {},
   "outputs": [
    {
     "data": {
      "text/html": [
       "<div>\n",
       "<style scoped>\n",
       "    .dataframe tbody tr th:only-of-type {\n",
       "        vertical-align: middle;\n",
       "    }\n",
       "\n",
       "    .dataframe tbody tr th {\n",
       "        vertical-align: top;\n",
       "    }\n",
       "\n",
       "    .dataframe thead th {\n",
       "        text-align: right;\n",
       "    }\n",
       "</style>\n",
       "<table border=\"1\" class=\"dataframe\">\n",
       "  <thead>\n",
       "    <tr style=\"text-align: right;\">\n",
       "      <th></th>\n",
       "      <th>date time</th>\n",
       "      <th>display name</th>\n",
       "      <th>content</th>\n",
       "    </tr>\n",
       "  </thead>\n",
       "  <tbody>\n",
       "    <tr>\n",
       "      <th>0</th>\n",
       "      <td>2021-12-19 23:13:41-05:00</td>\n",
       "      <td>Robin Lehner</td>\n",
       "      <td>@HulkMorgan That was for the kid I pointed too...</td>\n",
       "    </tr>\n",
       "    <tr>\n",
       "      <th>1</th>\n",
       "      <td>2021-12-19 22:05:01-05:00</td>\n",
       "      <td>Robin Lehner</td>\n",
       "      <td>https://t.co/bZySoaAzNu  what a road trip. Tha...</td>\n",
       "    </tr>\n",
       "    <tr>\n",
       "      <th>2</th>\n",
       "      <td>2021-12-18 22:03:34-05:00</td>\n",
       "      <td>Robin Lehner</td>\n",
       "      <td>@SickNotWeak It’s not ending tho guys. Corpora...</td>\n",
       "    </tr>\n",
       "    <tr>\n",
       "      <th>3</th>\n",
       "      <td>2021-12-18 21:06:33-05:00</td>\n",
       "      <td>Robin Lehner</td>\n",
       "      <td>@jdemers51 😂</td>\n",
       "    </tr>\n",
       "    <tr>\n",
       "      <th>4</th>\n",
       "      <td>2021-12-18 21:01:21-05:00</td>\n",
       "      <td>Robin Lehner</td>\n",
       "      <td>I’m ready for tomorrow. Yes yes yes. Lou house...</td>\n",
       "    </tr>\n",
       "    <tr>\n",
       "      <th>...</th>\n",
       "      <td>...</td>\n",
       "      <td>...</td>\n",
       "      <td>...</td>\n",
       "    </tr>\n",
       "    <tr>\n",
       "      <th>1456</th>\n",
       "      <td>2011-11-03 02:54:39-04:00</td>\n",
       "      <td>Robin Lehner</td>\n",
       "      <td>@jwrgodfrey soon man;) gotta wait for the righ...</td>\n",
       "    </tr>\n",
       "    <tr>\n",
       "      <th>1457</th>\n",
       "      <td>2011-11-03 02:45:03-04:00</td>\n",
       "      <td>Robin Lehner</td>\n",
       "      <td>@jwrgodfrey @TheBoroCop I'm sure !!  Just like...</td>\n",
       "    </tr>\n",
       "    <tr>\n",
       "      <th>1458</th>\n",
       "      <td>2011-11-03 02:38:42-04:00</td>\n",
       "      <td>Robin Lehner</td>\n",
       "      <td>@MikeMcKenna56 thx man !! Keep up the good wor...</td>\n",
       "    </tr>\n",
       "    <tr>\n",
       "      <th>1459</th>\n",
       "      <td>2011-11-03 02:37:02-04:00</td>\n",
       "      <td>Robin Lehner</td>\n",
       "      <td>@TheBoroCop haha ok... Any scars tonight?;)</td>\n",
       "    </tr>\n",
       "    <tr>\n",
       "      <th>1460</th>\n",
       "      <td>2011-11-03 02:17:19-04:00</td>\n",
       "      <td>Robin Lehner</td>\n",
       "      <td>@TheBoroCop  congrats bro!! Snipe I'm sure</td>\n",
       "    </tr>\n",
       "  </tbody>\n",
       "</table>\n",
       "<p>1461 rows × 3 columns</p>\n",
       "</div>"
      ],
      "text/plain": [
       "                      date time  display name  \\\n",
       "0     2021-12-19 23:13:41-05:00  Robin Lehner   \n",
       "1     2021-12-19 22:05:01-05:00  Robin Lehner   \n",
       "2     2021-12-18 22:03:34-05:00  Robin Lehner   \n",
       "3     2021-12-18 21:06:33-05:00  Robin Lehner   \n",
       "4     2021-12-18 21:01:21-05:00  Robin Lehner   \n",
       "...                         ...           ...   \n",
       "1456  2011-11-03 02:54:39-04:00  Robin Lehner   \n",
       "1457  2011-11-03 02:45:03-04:00  Robin Lehner   \n",
       "1458  2011-11-03 02:38:42-04:00  Robin Lehner   \n",
       "1459  2011-11-03 02:37:02-04:00  Robin Lehner   \n",
       "1460  2011-11-03 02:17:19-04:00  Robin Lehner   \n",
       "\n",
       "                                                content  \n",
       "0     @HulkMorgan That was for the kid I pointed too...  \n",
       "1     https://t.co/bZySoaAzNu  what a road trip. Tha...  \n",
       "2     @SickNotWeak It’s not ending tho guys. Corpora...  \n",
       "3                                          @jdemers51 😂  \n",
       "4     I’m ready for tomorrow. Yes yes yes. Lou house...  \n",
       "...                                                 ...  \n",
       "1456  @jwrgodfrey soon man;) gotta wait for the righ...  \n",
       "1457  @jwrgodfrey @TheBoroCop I'm sure !!  Just like...  \n",
       "1458  @MikeMcKenna56 thx man !! Keep up the good wor...  \n",
       "1459        @TheBoroCop haha ok... Any scars tonight?;)  \n",
       "1460         @TheBoroCop  congrats bro!! Snipe I'm sure  \n",
       "\n",
       "[1461 rows x 3 columns]"
      ]
     },
     "execution_count": 20,
     "metadata": {},
     "output_type": "execute_result"
    }
   ],
   "source": [
    "twitter_df"
   ]
  },
  {
   "cell_type": "code",
   "execution_count": 21,
   "metadata": {},
   "outputs": [
    {
     "name": "stdout",
     "output_type": "stream",
     "text": [
      "332\n"
     ]
    }
   ],
   "source": [
    "game_list = []\n",
    "gm_dates = stat_df.iloc[:,0]\n",
    "for gm in gm_dates:\n",
    "    game_list.append(gm)\n",
    "    \n",
    "print(len(game_list))"
   ]
  },
  {
   "cell_type": "code",
   "execution_count": 22,
   "metadata": {},
   "outputs": [
    {
     "name": "stdout",
     "output_type": "stream",
     "text": [
      "0 good points of data, 0 postgame tweets\n"
     ]
    }
   ],
   "source": [
    "import pandas as pd\n",
    "\n",
    "data_points = []\n",
    "post_game = 0\n",
    "tweet_dates = twitter_df.iloc[:,0]\n",
    "#tweet_times = twitter_df.iloc[:,1]\n",
    "for gm in tweet_dates:\n",
    "    ymd = gm[:10]\n",
    "    if ymd in game_list:\n",
    "        #gm_time = f'{ymd} 00:00:00-05:00'\n",
    "        gm_time = pd.to_datetime(gm_time)\n",
    "        gm = pd.to_datetime(gm)\n",
    "        if gm < gm_time:\n",
    "            data_points.append(gm)\n",
    "        else:\n",
    "            post_game += 1\n",
    "\n",
    "\n",
    "print(f'{len(data_points)} good points of data, {post_game} postgame tweets')"
   ]
  },
  {
   "cell_type": "code",
   "execution_count": 9,
   "metadata": {},
   "outputs": [],
   "source": [
    "for d in data_points:\n",
    "    print(d)"
   ]
  },
  {
   "cell_type": "markdown",
   "metadata": {},
   "source": [
    "Maybe need to include puck drop times? Would require altering stat scraper, and likely slowing it down signifigantly, to the magnitute of rendering an entire new webpage in beautfiul soup per row in the dataset. For Ovechkin this would include 1228 pages! Maybe I should use selenium as an alternative. However at least for Ovechkin, no gameday tweets were scheduled for 7pm EST. BRB Looking at tweet timestamps"
   ]
  },
  {
   "cell_type": "code",
   "execution_count": 9,
   "metadata": {},
   "outputs": [],
   "source": [
    "for point in data_points:\n",
    "    print(point)"
   ]
  },
  {
   "cell_type": "code",
   "execution_count": null,
   "metadata": {},
   "outputs": [],
   "source": []
  }
 ],
 "metadata": {
  "kernelspec": {
   "display_name": "Python 3",
   "language": "python",
   "name": "python3"
  },
  "language_info": {
   "codemirror_mode": {
    "name": "ipython",
    "version": 3
   },
   "file_extension": ".py",
   "mimetype": "text/x-python",
   "name": "python",
   "nbconvert_exporter": "python",
   "pygments_lexer": "ipython3",
   "version": "3.8.5"
  }
 },
 "nbformat": 4,
 "nbformat_minor": 4
}
