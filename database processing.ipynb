{
 "cells": [
  {
   "cell_type": "markdown",
   "metadata": {},
   "source": [
    "## SETUP "
   ]
  },
  {
   "cell_type": "code",
   "execution_count": 1,
   "metadata": {},
   "outputs": [],
   "source": [
    "#import libraries\n",
    "import pandas as pd\n",
    "import sqlite3"
   ]
  },
  {
   "cell_type": "code",
   "execution_count": 4,
   "metadata": {},
   "outputs": [],
   "source": [
    "#df = pd.DataFrame(#data here :/)\n",
    "\n",
    "df = pd.DataFrame({'name': ['Juan', 'Victoria', 'Mary'], \\\n",
    "'age': [23, 34, 43], 'city': ['Miami', 'Buenos Aries', 'Santiago']})\n"
   ]
  },
  {
   "cell_type": "code",
   "execution_count": 5,
   "metadata": {},
   "outputs": [
    {
     "data": {
      "text/html": [
       "<div>\n",
       "<style scoped>\n",
       "    .dataframe tbody tr th:only-of-type {\n",
       "        vertical-align: middle;\n",
       "    }\n",
       "\n",
       "    .dataframe tbody tr th {\n",
       "        vertical-align: top;\n",
       "    }\n",
       "\n",
       "    .dataframe thead th {\n",
       "        text-align: right;\n",
       "    }\n",
       "</style>\n",
       "<table border=\"1\" class=\"dataframe\">\n",
       "  <thead>\n",
       "    <tr style=\"text-align: right;\">\n",
       "      <th></th>\n",
       "      <th>name</th>\n",
       "      <th>age</th>\n",
       "      <th>city</th>\n",
       "    </tr>\n",
       "  </thead>\n",
       "  <tbody>\n",
       "    <tr>\n",
       "      <th>0</th>\n",
       "      <td>Juan</td>\n",
       "      <td>23</td>\n",
       "      <td>Miami</td>\n",
       "    </tr>\n",
       "    <tr>\n",
       "      <th>1</th>\n",
       "      <td>Victoria</td>\n",
       "      <td>34</td>\n",
       "      <td>Buenos Aries</td>\n",
       "    </tr>\n",
       "    <tr>\n",
       "      <th>2</th>\n",
       "      <td>Mary</td>\n",
       "      <td>43</td>\n",
       "      <td>Santiago</td>\n",
       "    </tr>\n",
       "  </tbody>\n",
       "</table>\n",
       "</div>"
      ],
      "text/plain": [
       "       name  age          city\n",
       "0      Juan   23         Miami\n",
       "1  Victoria   34  Buenos Aries\n",
       "2      Mary   43      Santiago"
      ]
     },
     "execution_count": 5,
     "metadata": {},
     "output_type": "execute_result"
    }
   ],
   "source": [
    "df"
   ]
  },
  {
   "cell_type": "code",
   "execution_count": 7,
   "metadata": {},
   "outputs": [],
   "source": [
    "#We will sqlite3 library and create a connection\n",
    "cnn = sqlite3.connect('jupyter_sql_tutorial.db')"
   ]
  },
  {
   "cell_type": "code",
   "execution_count": 11,
   "metadata": {},
   "outputs": [],
   "source": [
    "df.to_sql('people', cnn)"
   ]
  },
  {
   "cell_type": "code",
   "execution_count": 12,
   "metadata": {},
   "outputs": [
    {
     "name": "stdout",
     "output_type": "stream",
     "text": [
      "The sql extension is already loaded. To reload it, use:\n",
      "  %reload_ext sql\n"
     ]
    }
   ],
   "source": [
    "%load_ext sql"
   ]
  },
  {
   "cell_type": "code",
   "execution_count": 15,
   "metadata": {},
   "outputs": [],
   "source": [
    "%sql sqlite:///jupyter_sql_tutorial.db"
   ]
  },
  {
   "cell_type": "code",
   "execution_count": 17,
   "metadata": {},
   "outputs": [
    {
     "name": "stdout",
     "output_type": "stream",
     "text": [
      " * sqlite:///jupyter_sql_tutorial.db\n",
      "Done.\n"
     ]
    },
    {
     "data": {
      "text/html": [
       "<table>\n",
       "    <tr>\n",
       "        <th>index</th>\n",
       "        <th>name</th>\n",
       "        <th>age</th>\n",
       "        <th>city</th>\n",
       "    </tr>\n",
       "    <tr>\n",
       "        <td>0</td>\n",
       "        <td>Juan</td>\n",
       "        <td>23</td>\n",
       "        <td>Miami</td>\n",
       "    </tr>\n",
       "    <tr>\n",
       "        <td>1</td>\n",
       "        <td>Victoria</td>\n",
       "        <td>34</td>\n",
       "        <td>Buenos Aries</td>\n",
       "    </tr>\n",
       "    <tr>\n",
       "        <td>2</td>\n",
       "        <td>Mary</td>\n",
       "        <td>43</td>\n",
       "        <td>Santiago</td>\n",
       "    </tr>\n",
       "</table>"
      ],
      "text/plain": [
       "[(0, 'Juan', 23, 'Miami'),\n",
       " (1, 'Victoria', 34, 'Buenos Aries'),\n",
       " (2, 'Mary', 43, 'Santiago')]"
      ]
     },
     "execution_count": 17,
     "metadata": {},
     "output_type": "execute_result"
    }
   ],
   "source": [
    "%%sql\n",
    "SELECT *\n",
    "FROM people"
   ]
  },
  {
   "cell_type": "code",
   "execution_count": 18,
   "metadata": {},
   "outputs": [
    {
     "name": "stdout",
     "output_type": "stream",
     "text": [
      " * sqlite:///jupyter_sql_tutorial.db\n",
      "Done.\n"
     ]
    },
    {
     "data": {
      "text/html": [
       "<table>\n",
       "    <tr>\n",
       "        <th>count(*)</th>\n",
       "    </tr>\n",
       "    <tr>\n",
       "        <td>3</td>\n",
       "    </tr>\n",
       "</table>"
      ],
      "text/plain": [
       "[(3,)]"
      ]
     },
     "execution_count": 18,
     "metadata": {},
     "output_type": "execute_result"
    }
   ],
   "source": [
    "%%sql\n",
    "SELECT count(*)\n",
    "FROM people"
   ]
  },
  {
   "cell_type": "code",
   "execution_count": 19,
   "metadata": {},
   "outputs": [
    {
     "name": "stdout",
     "output_type": "stream",
     "text": [
      " * sqlite:///jupyter_sql_tutorial.db\n",
      "Done.\n"
     ]
    },
    {
     "data": {
      "text/html": [
       "<table>\n",
       "    <tr>\n",
       "        <th>age_sum</th>\n",
       "    </tr>\n",
       "    <tr>\n",
       "        <td>100</td>\n",
       "    </tr>\n",
       "</table>"
      ],
      "text/plain": [
       "[(100,)]"
      ]
     },
     "execution_count": 19,
     "metadata": {},
     "output_type": "execute_result"
    }
   ],
   "source": [
    "%%sql\n",
    "SELECT sum(age) as 'age_sum'\n",
    "FROM people"
   ]
  },
  {
   "cell_type": "markdown",
   "metadata": {},
   "source": [
    "## Parameters walkthrough"
   ]
  },
  {
   "cell_type": "code",
   "execution_count": 20,
   "metadata": {},
   "outputs": [],
   "source": [
    "#create dummy dataframe\n",
    "df = pd.DataFrame({'transaction_id': ['9', '8', '7', '6', '5', '4', '3'], \\\n",
    "                  'user_id': ['rafa', 'roy', 'kenny', 'brendan', 'jurgen', 'roy', 'roy'],\\\n",
    "                  'transaction_date': ['2021-12-21', '2020-12-21', '2019-12-21',\\\n",
    "                                       '2018-11-21', '2017-10-21', '2019-03-02', '2010-01-01'],\\\n",
    "                  'amount': ['10', '15', '20', '24', '25', '31', '42']})"
   ]
  },
  {
   "cell_type": "code",
   "execution_count": 21,
   "metadata": {},
   "outputs": [
    {
     "data": {
      "text/html": [
       "<div>\n",
       "<style scoped>\n",
       "    .dataframe tbody tr th:only-of-type {\n",
       "        vertical-align: middle;\n",
       "    }\n",
       "\n",
       "    .dataframe tbody tr th {\n",
       "        vertical-align: top;\n",
       "    }\n",
       "\n",
       "    .dataframe thead th {\n",
       "        text-align: right;\n",
       "    }\n",
       "</style>\n",
       "<table border=\"1\" class=\"dataframe\">\n",
       "  <thead>\n",
       "    <tr style=\"text-align: right;\">\n",
       "      <th></th>\n",
       "      <th>transaction_id</th>\n",
       "      <th>user_id</th>\n",
       "      <th>transaction_date</th>\n",
       "      <th>amount</th>\n",
       "    </tr>\n",
       "  </thead>\n",
       "  <tbody>\n",
       "    <tr>\n",
       "      <th>0</th>\n",
       "      <td>9</td>\n",
       "      <td>rafa</td>\n",
       "      <td>2021-12-21</td>\n",
       "      <td>10</td>\n",
       "    </tr>\n",
       "    <tr>\n",
       "      <th>1</th>\n",
       "      <td>8</td>\n",
       "      <td>roy</td>\n",
       "      <td>2020-12-21</td>\n",
       "      <td>15</td>\n",
       "    </tr>\n",
       "    <tr>\n",
       "      <th>2</th>\n",
       "      <td>7</td>\n",
       "      <td>kenny</td>\n",
       "      <td>2019-12-21</td>\n",
       "      <td>20</td>\n",
       "    </tr>\n",
       "    <tr>\n",
       "      <th>3</th>\n",
       "      <td>6</td>\n",
       "      <td>brendan</td>\n",
       "      <td>2018-11-21</td>\n",
       "      <td>24</td>\n",
       "    </tr>\n",
       "    <tr>\n",
       "      <th>4</th>\n",
       "      <td>5</td>\n",
       "      <td>jurgen</td>\n",
       "      <td>2017-10-21</td>\n",
       "      <td>25</td>\n",
       "    </tr>\n",
       "    <tr>\n",
       "      <th>5</th>\n",
       "      <td>4</td>\n",
       "      <td>roy</td>\n",
       "      <td>2019-03-02</td>\n",
       "      <td>31</td>\n",
       "    </tr>\n",
       "    <tr>\n",
       "      <th>6</th>\n",
       "      <td>3</td>\n",
       "      <td>roy</td>\n",
       "      <td>2010-01-01</td>\n",
       "      <td>42</td>\n",
       "    </tr>\n",
       "  </tbody>\n",
       "</table>\n",
       "</div>"
      ],
      "text/plain": [
       "  transaction_id  user_id transaction_date amount\n",
       "0              9     rafa       2021-12-21     10\n",
       "1              8      roy       2020-12-21     15\n",
       "2              7    kenny       2019-12-21     20\n",
       "3              6  brendan       2018-11-21     24\n",
       "4              5   jurgen       2017-10-21     25\n",
       "5              4      roy       2019-03-02     31\n",
       "6              3      roy       2010-01-01     42"
      ]
     },
     "execution_count": 21,
     "metadata": {},
     "output_type": "execute_result"
    }
   ],
   "source": [
    "df"
   ]
  },
  {
   "cell_type": "code",
   "execution_count": 22,
   "metadata": {},
   "outputs": [],
   "source": [
    "#We will sqlite3 library and create a connection\n",
    "cnn = sqlite3.connect('dummy.db')"
   ]
  },
  {
   "cell_type": "code",
   "execution_count": 29,
   "metadata": {},
   "outputs": [],
   "source": [
    "df.to_sql('managers1', cnn)"
   ]
  },
  {
   "cell_type": "code",
   "execution_count": 30,
   "metadata": {},
   "outputs": [],
   "source": [
    "%reload_ext sql"
   ]
  },
  {
   "cell_type": "code",
   "execution_count": 31,
   "metadata": {},
   "outputs": [],
   "source": [
    "%sql sqlite:///dummy.db"
   ]
  },
  {
   "cell_type": "code",
   "execution_count": 32,
   "metadata": {},
   "outputs": [
    {
     "name": "stdout",
     "output_type": "stream",
     "text": [
      " * sqlite:///dummy.db\n",
      "Done.\n"
     ]
    },
    {
     "data": {
      "text/html": [
       "<table>\n",
       "    <tr>\n",
       "        <th>index</th>\n",
       "        <th>transaction_id</th>\n",
       "        <th>user_id</th>\n",
       "        <th>transaction_date</th>\n",
       "        <th>amount</th>\n",
       "    </tr>\n",
       "    <tr>\n",
       "        <td>0</td>\n",
       "        <td>9</td>\n",
       "        <td>rafa</td>\n",
       "        <td>2021-12-21</td>\n",
       "        <td>10</td>\n",
       "    </tr>\n",
       "    <tr>\n",
       "        <td>1</td>\n",
       "        <td>8</td>\n",
       "        <td>roy</td>\n",
       "        <td>2020-12-21</td>\n",
       "        <td>15</td>\n",
       "    </tr>\n",
       "    <tr>\n",
       "        <td>2</td>\n",
       "        <td>7</td>\n",
       "        <td>kenny</td>\n",
       "        <td>2019-12-21</td>\n",
       "        <td>20</td>\n",
       "    </tr>\n",
       "    <tr>\n",
       "        <td>3</td>\n",
       "        <td>6</td>\n",
       "        <td>brendan</td>\n",
       "        <td>2018-11-21</td>\n",
       "        <td>24</td>\n",
       "    </tr>\n",
       "    <tr>\n",
       "        <td>4</td>\n",
       "        <td>5</td>\n",
       "        <td>jurgen</td>\n",
       "        <td>2017-10-21</td>\n",
       "        <td>25</td>\n",
       "    </tr>\n",
       "    <tr>\n",
       "        <td>5</td>\n",
       "        <td>4</td>\n",
       "        <td>roy</td>\n",
       "        <td>2019-03-02</td>\n",
       "        <td>31</td>\n",
       "    </tr>\n",
       "    <tr>\n",
       "        <td>6</td>\n",
       "        <td>3</td>\n",
       "        <td>roy</td>\n",
       "        <td>2010-01-01</td>\n",
       "        <td>42</td>\n",
       "    </tr>\n",
       "</table>"
      ],
      "text/plain": [
       "[(0, '9', 'rafa', '2021-12-21', '10'),\n",
       " (1, '8', 'roy', '2020-12-21', '15'),\n",
       " (2, '7', 'kenny', '2019-12-21', '20'),\n",
       " (3, '6', 'brendan', '2018-11-21', '24'),\n",
       " (4, '5', 'jurgen', '2017-10-21', '25'),\n",
       " (5, '4', 'roy', '2019-03-02', '31'),\n",
       " (6, '3', 'roy', '2010-01-01', '42')]"
      ]
     },
     "execution_count": 32,
     "metadata": {},
     "output_type": "execute_result"
    }
   ],
   "source": [
    "%%sql\n",
    "SELECT *\n",
    "FROM managers1"
   ]
  },
  {
   "cell_type": "code",
   "execution_count": 34,
   "metadata": {},
   "outputs": [
    {
     "name": "stdout",
     "output_type": "stream",
     "text": [
      " * sqlite:///dummy.db\n",
      "Done.\n"
     ]
    },
    {
     "data": {
      "text/html": [
       "<table>\n",
       "    <tr>\n",
       "        <th>spend_sum</th>\n",
       "    </tr>\n",
       "    <tr>\n",
       "        <td>167</td>\n",
       "    </tr>\n",
       "</table>"
      ],
      "text/plain": [
       "[(167,)]"
      ]
     },
     "execution_count": 34,
     "metadata": {},
     "output_type": "execute_result"
    }
   ],
   "source": [
    "%%sql\n",
    "SELECT sum(amount) as 'spend_sum'\n",
    "FROM managers1"
   ]
  },
  {
   "cell_type": "code",
   "execution_count": 35,
   "metadata": {},
   "outputs": [
    {
     "name": "stdout",
     "output_type": "stream",
     "text": [
      " * sqlite:///dummy.db\n",
      "Done.\n"
     ]
    },
    {
     "data": {
      "text/html": [
       "<table>\n",
       "    <tr>\n",
       "        <th>user_id</th>\n",
       "        <th>num_transactions</th>\n",
       "        <th>total_amount</th>\n",
       "    </tr>\n",
       "    <tr>\n",
       "        <td>roy</td>\n",
       "        <td>1</td>\n",
       "        <td>31</td>\n",
       "    </tr>\n",
       "</table>"
      ],
      "text/plain": [
       "[('roy', 1, 31)]"
      ]
     },
     "execution_count": 35,
     "metadata": {},
     "output_type": "execute_result"
    }
   ],
   "source": [
    "%%sql\n",
    "SELECT \n",
    "    user_id\n",
    "    , count(*) as num_transactions\n",
    "    , sum(amount) as total_amount\n",
    "FROM\n",
    "    managers1\n",
    "WHERE\n",
    "    user_id = 'roy'\n",
    "    and transaction_date = '2019-03-02'"
   ]
  },
  {
   "cell_type": "markdown",
   "metadata": {},
   "source": [
    "## For real this time"
   ]
  },
  {
   "cell_type": "markdown",
   "metadata": {},
   "source": [
    "ovechal01, ovi8\n",
    "\n",
    "1228 * 11,\n"
   ]
  },
  {
   "cell_type": "code",
   "execution_count": 53,
   "metadata": {},
   "outputs": [],
   "source": [
    "#import libraries\n",
    "from datetime import timedelta\n",
    "from dateutil.parser import parse\n",
    "import pandas as pd\n",
    "import sqlite3\n",
    "import time"
   ]
  },
  {
   "cell_type": "code",
   "execution_count": 2,
   "metadata": {},
   "outputs": [
    {
     "name": "stdout",
     "output_type": "stream",
     "text": [
      "stat handle:ovechal01\n"
     ]
    }
   ],
   "source": [
    "stat_handle = input('stat handle:')\n",
    "stat_sheet = f'./data/{stat_handle}_stats.csv'\n",
    "stat_df = pd.read_csv(stat_sheet, sep= '\\t', header= 0, index_col= None)"
   ]
  },
  {
   "cell_type": "code",
   "execution_count": 3,
   "metadata": {},
   "outputs": [
    {
     "data": {
      "text/html": [
       "<div>\n",
       "<style scoped>\n",
       "    .dataframe tbody tr th:only-of-type {\n",
       "        vertical-align: middle;\n",
       "    }\n",
       "\n",
       "    .dataframe tbody tr th {\n",
       "        vertical-align: top;\n",
       "    }\n",
       "\n",
       "    .dataframe thead th {\n",
       "        text-align: right;\n",
       "    }\n",
       "</style>\n",
       "<table border=\"1\" class=\"dataframe\">\n",
       "  <thead>\n",
       "    <tr style=\"text-align: right;\">\n",
       "      <th></th>\n",
       "      <th>date</th>\n",
       "      <th>goals</th>\n",
       "      <th>assists</th>\n",
       "      <th>+/-</th>\n",
       "      <th>pim</th>\n",
       "      <th>shots</th>\n",
       "      <th>shot%</th>\n",
       "      <th>TOI</th>\n",
       "      <th>hits</th>\n",
       "      <th>blocks</th>\n",
       "      <th>faceoff %</th>\n",
       "    </tr>\n",
       "  </thead>\n",
       "  <tbody>\n",
       "    <tr>\n",
       "      <th>0</th>\n",
       "      <td>2013-01-19 19:00:00-05:00</td>\n",
       "      <td>0</td>\n",
       "      <td>0</td>\n",
       "      <td>0</td>\n",
       "      <td>2</td>\n",
       "      <td>4</td>\n",
       "      <td>0.0</td>\n",
       "      <td>23:35</td>\n",
       "      <td>2</td>\n",
       "      <td>0</td>\n",
       "      <td>NaN</td>\n",
       "    </tr>\n",
       "    <tr>\n",
       "      <th>1</th>\n",
       "      <td>2013-01-22 19:00:00-05:00</td>\n",
       "      <td>0</td>\n",
       "      <td>1</td>\n",
       "      <td>0</td>\n",
       "      <td>0</td>\n",
       "      <td>4</td>\n",
       "      <td>0.0</td>\n",
       "      <td>23:59</td>\n",
       "      <td>4</td>\n",
       "      <td>0</td>\n",
       "      <td>NaN</td>\n",
       "    </tr>\n",
       "    <tr>\n",
       "      <th>2</th>\n",
       "      <td>2013-01-24 19:00:00-05:00</td>\n",
       "      <td>0</td>\n",
       "      <td>0</td>\n",
       "      <td>-1</td>\n",
       "      <td>2</td>\n",
       "      <td>3</td>\n",
       "      <td>0.0</td>\n",
       "      <td>22:26</td>\n",
       "      <td>1</td>\n",
       "      <td>0</td>\n",
       "      <td>NaN</td>\n",
       "    </tr>\n",
       "    <tr>\n",
       "      <th>3</th>\n",
       "      <td>2013-01-25 19:00:00-05:00</td>\n",
       "      <td>0</td>\n",
       "      <td>0</td>\n",
       "      <td>0</td>\n",
       "      <td>0</td>\n",
       "      <td>2</td>\n",
       "      <td>0.0</td>\n",
       "      <td>22:29</td>\n",
       "      <td>1</td>\n",
       "      <td>0</td>\n",
       "      <td>NaN</td>\n",
       "    </tr>\n",
       "    <tr>\n",
       "      <th>4</th>\n",
       "      <td>2013-01-27 15:00:00-05:00</td>\n",
       "      <td>1</td>\n",
       "      <td>0</td>\n",
       "      <td>-1</td>\n",
       "      <td>0</td>\n",
       "      <td>5</td>\n",
       "      <td>20.0</td>\n",
       "      <td>18:29</td>\n",
       "      <td>3</td>\n",
       "      <td>0</td>\n",
       "      <td>NaN</td>\n",
       "    </tr>\n",
       "    <tr>\n",
       "      <th>...</th>\n",
       "      <td>...</td>\n",
       "      <td>...</td>\n",
       "      <td>...</td>\n",
       "      <td>...</td>\n",
       "      <td>...</td>\n",
       "      <td>...</td>\n",
       "      <td>...</td>\n",
       "      <td>...</td>\n",
       "      <td>...</td>\n",
       "      <td>...</td>\n",
       "      <td>...</td>\n",
       "    </tr>\n",
       "    <tr>\n",
       "      <th>675</th>\n",
       "      <td>2021-12-29 19:00:00-05:00</td>\n",
       "      <td>0</td>\n",
       "      <td>1</td>\n",
       "      <td>1</td>\n",
       "      <td>0</td>\n",
       "      <td>4</td>\n",
       "      <td>0.0</td>\n",
       "      <td>26:01</td>\n",
       "      <td>0</td>\n",
       "      <td>0</td>\n",
       "      <td>NaN</td>\n",
       "    </tr>\n",
       "    <tr>\n",
       "      <th>676</th>\n",
       "      <td>2021-12-31 19:30:00-05:00</td>\n",
       "      <td>2</td>\n",
       "      <td>0</td>\n",
       "      <td>2</td>\n",
       "      <td>0</td>\n",
       "      <td>7</td>\n",
       "      <td>28.6</td>\n",
       "      <td>19:54</td>\n",
       "      <td>1</td>\n",
       "      <td>0</td>\n",
       "      <td>NaN</td>\n",
       "    </tr>\n",
       "    <tr>\n",
       "      <th>677</th>\n",
       "      <td>2022-01-02 15:00:00-05:00</td>\n",
       "      <td>0</td>\n",
       "      <td>0</td>\n",
       "      <td>-2</td>\n",
       "      <td>0</td>\n",
       "      <td>3</td>\n",
       "      <td>0.0</td>\n",
       "      <td>22:56</td>\n",
       "      <td>4</td>\n",
       "      <td>0</td>\n",
       "      <td>100.0</td>\n",
       "    </tr>\n",
       "    <tr>\n",
       "      <th>678</th>\n",
       "      <td>2022-01-07 20:00:00-05:00</td>\n",
       "      <td>0</td>\n",
       "      <td>0</td>\n",
       "      <td>-3</td>\n",
       "      <td>0</td>\n",
       "      <td>3</td>\n",
       "      <td>0.0</td>\n",
       "      <td>20:55</td>\n",
       "      <td>1</td>\n",
       "      <td>0</td>\n",
       "      <td>NaN</td>\n",
       "    </tr>\n",
       "    <tr>\n",
       "      <th>679</th>\n",
       "      <td>2022-01-08 20:00:00-05:00</td>\n",
       "      <td>0</td>\n",
       "      <td>1</td>\n",
       "      <td>-1</td>\n",
       "      <td>0</td>\n",
       "      <td>4</td>\n",
       "      <td>0.0</td>\n",
       "      <td>23:17</td>\n",
       "      <td>0</td>\n",
       "      <td>0</td>\n",
       "      <td>NaN</td>\n",
       "    </tr>\n",
       "  </tbody>\n",
       "</table>\n",
       "<p>680 rows × 11 columns</p>\n",
       "</div>"
      ],
      "text/plain": [
       "                          date  goals  assists  +/-  pim  shots  shot%    TOI  \\\n",
       "0    2013-01-19 19:00:00-05:00      0        0    0    2      4    0.0  23:35   \n",
       "1    2013-01-22 19:00:00-05:00      0        1    0    0      4    0.0  23:59   \n",
       "2    2013-01-24 19:00:00-05:00      0        0   -1    2      3    0.0  22:26   \n",
       "3    2013-01-25 19:00:00-05:00      0        0    0    0      2    0.0  22:29   \n",
       "4    2013-01-27 15:00:00-05:00      1        0   -1    0      5   20.0  18:29   \n",
       "..                         ...    ...      ...  ...  ...    ...    ...    ...   \n",
       "675  2021-12-29 19:00:00-05:00      0        1    1    0      4    0.0  26:01   \n",
       "676  2021-12-31 19:30:00-05:00      2        0    2    0      7   28.6  19:54   \n",
       "677  2022-01-02 15:00:00-05:00      0        0   -2    0      3    0.0  22:56   \n",
       "678  2022-01-07 20:00:00-05:00      0        0   -3    0      3    0.0  20:55   \n",
       "679  2022-01-08 20:00:00-05:00      0        1   -1    0      4    0.0  23:17   \n",
       "\n",
       "     hits  blocks  faceoff %  \n",
       "0       2       0        NaN  \n",
       "1       4       0        NaN  \n",
       "2       1       0        NaN  \n",
       "3       1       0        NaN  \n",
       "4       3       0        NaN  \n",
       "..    ...     ...        ...  \n",
       "675     0       0        NaN  \n",
       "676     1       0        NaN  \n",
       "677     4       0      100.0  \n",
       "678     1       0        NaN  \n",
       "679     0       0        NaN  \n",
       "\n",
       "[680 rows x 11 columns]"
      ]
     },
     "execution_count": 3,
     "metadata": {},
     "output_type": "execute_result"
    }
   ],
   "source": [
    "stat_df"
   ]
  },
  {
   "cell_type": "code",
   "execution_count": 4,
   "metadata": {},
   "outputs": [
    {
     "name": "stdout",
     "output_type": "stream",
     "text": [
      "twitter handle:ovi8\n"
     ]
    }
   ],
   "source": [
    "stat_handle = input('twitter handle:')\n",
    "stat_sheet = f'./data/{stat_handle}.csv'\n",
    "twitter_df = pd.read_csv(stat_sheet, sep= '\\t', header= 0, index_col= None)"
   ]
  },
  {
   "cell_type": "code",
   "execution_count": 5,
   "metadata": {},
   "outputs": [
    {
     "data": {
      "text/html": [
       "<div>\n",
       "<style scoped>\n",
       "    .dataframe tbody tr th:only-of-type {\n",
       "        vertical-align: middle;\n",
       "    }\n",
       "\n",
       "    .dataframe tbody tr th {\n",
       "        vertical-align: top;\n",
       "    }\n",
       "\n",
       "    .dataframe thead th {\n",
       "        text-align: right;\n",
       "    }\n",
       "</style>\n",
       "<table border=\"1\" class=\"dataframe\">\n",
       "  <thead>\n",
       "    <tr style=\"text-align: right;\">\n",
       "      <th></th>\n",
       "      <th>date time</th>\n",
       "      <th>display name</th>\n",
       "      <th>content</th>\n",
       "    </tr>\n",
       "  </thead>\n",
       "  <tbody>\n",
       "    <tr>\n",
       "      <th>0</th>\n",
       "      <td>2021-12-02 18:19:51-05:00</td>\n",
       "      <td>Alex Ovechkin</td>\n",
       "      <td>The 2022 #CapsCanineCalendar is Ovi and Blake ...</td>\n",
       "    </tr>\n",
       "    <tr>\n",
       "      <th>1</th>\n",
       "      <td>2021-11-20 20:44:54-05:00</td>\n",
       "      <td>Alex Ovechkin</td>\n",
       "      <td>🏆 You took the biggest step!!! Congrats @WashS...</td>\n",
       "    </tr>\n",
       "    <tr>\n",
       "      <th>2</th>\n",
       "      <td>2021-11-16 04:04:50-05:00</td>\n",
       "      <td>Alex Ovechkin</td>\n",
       "      <td>Great to be part of the first @blockassetco Le...</td>\n",
       "    </tr>\n",
       "    <tr>\n",
       "      <th>3</th>\n",
       "      <td>2021-11-04 13:16:26-04:00</td>\n",
       "      <td>Alex Ovechkin</td>\n",
       "      <td>Good luck and see you guys soon in DC!! https:...</td>\n",
       "    </tr>\n",
       "    <tr>\n",
       "      <th>4</th>\n",
       "      <td>2021-10-28 22:15:31-04:00</td>\n",
       "      <td>Alex Ovechkin</td>\n",
       "      <td>Very proud to be a @Blockassetco Legend with @...</td>\n",
       "    </tr>\n",
       "    <tr>\n",
       "      <th>...</th>\n",
       "      <td>...</td>\n",
       "      <td>...</td>\n",
       "      <td>...</td>\n",
       "    </tr>\n",
       "    <tr>\n",
       "      <th>620</th>\n",
       "      <td>2009-01-21 14:51:20-05:00</td>\n",
       "      <td>Alex Ovechkin</td>\n",
       "      <td>At DC airport with tons of obama fans. Taking ...</td>\n",
       "    </tr>\n",
       "    <tr>\n",
       "      <th>621</th>\n",
       "      <td>2009-01-20 03:40:04-05:00</td>\n",
       "      <td>Alex Ovechkin</td>\n",
       "      <td>Lots of questions about my trick shot plans - ...</td>\n",
       "    </tr>\n",
       "    <tr>\n",
       "      <th>622</th>\n",
       "      <td>2009-01-20 01:35:55-05:00</td>\n",
       "      <td>Alex Ovechkin</td>\n",
       "      <td>Only thing better than scoring goals is winnin...</td>\n",
       "    </tr>\n",
       "    <tr>\n",
       "      <th>623</th>\n",
       "      <td>2009-01-19 04:31:30-05:00</td>\n",
       "      <td>Alex Ovechkin</td>\n",
       "      <td>Big win last night on a sick shot by Semin. No...</td>\n",
       "    </tr>\n",
       "    <tr>\n",
       "      <th>624</th>\n",
       "      <td>2009-01-17 20:46:40-05:00</td>\n",
       "      <td>Alex Ovechkin</td>\n",
       "      <td>Thought I'd use this to give you quick updates...</td>\n",
       "    </tr>\n",
       "  </tbody>\n",
       "</table>\n",
       "<p>625 rows × 3 columns</p>\n",
       "</div>"
      ],
      "text/plain": [
       "                     date time   display name  \\\n",
       "0    2021-12-02 18:19:51-05:00  Alex Ovechkin   \n",
       "1    2021-11-20 20:44:54-05:00  Alex Ovechkin   \n",
       "2    2021-11-16 04:04:50-05:00  Alex Ovechkin   \n",
       "3    2021-11-04 13:16:26-04:00  Alex Ovechkin   \n",
       "4    2021-10-28 22:15:31-04:00  Alex Ovechkin   \n",
       "..                         ...            ...   \n",
       "620  2009-01-21 14:51:20-05:00  Alex Ovechkin   \n",
       "621  2009-01-20 03:40:04-05:00  Alex Ovechkin   \n",
       "622  2009-01-20 01:35:55-05:00  Alex Ovechkin   \n",
       "623  2009-01-19 04:31:30-05:00  Alex Ovechkin   \n",
       "624  2009-01-17 20:46:40-05:00  Alex Ovechkin   \n",
       "\n",
       "                                               content  \n",
       "0    The 2022 #CapsCanineCalendar is Ovi and Blake ...  \n",
       "1    🏆 You took the biggest step!!! Congrats @WashS...  \n",
       "2    Great to be part of the first @blockassetco Le...  \n",
       "3    Good luck and see you guys soon in DC!! https:...  \n",
       "4    Very proud to be a @Blockassetco Legend with @...  \n",
       "..                                                 ...  \n",
       "620  At DC airport with tons of obama fans. Taking ...  \n",
       "621  Lots of questions about my trick shot plans - ...  \n",
       "622  Only thing better than scoring goals is winnin...  \n",
       "623  Big win last night on a sick shot by Semin. No...  \n",
       "624  Thought I'd use this to give you quick updates...  \n",
       "\n",
       "[625 rows x 3 columns]"
      ]
     },
     "execution_count": 5,
     "metadata": {},
     "output_type": "execute_result"
    }
   ],
   "source": [
    "twitter_df"
   ]
  },
  {
   "cell_type": "code",
   "execution_count": 16,
   "metadata": {},
   "outputs": [
    {
     "name": "stdout",
     "output_type": "stream",
     "text": [
      "2009-01-21 13:51:20-05:00\n"
     ]
    }
   ],
   "source": [
    "from datetime import timedelta\n",
    "\n",
    "tempo = pd.to_datetime('2009-01-21 14:51:20-05:00')\n",
    "temp = tempo - timedelta(hours=1)\n",
    "print(temp)"
   ]
  },
  {
   "cell_type": "code",
   "execution_count": 68,
   "metadata": {},
   "outputs": [
    {
     "name": "stdout",
     "output_type": "stream",
     "text": [
      "1\n",
      "2\n",
      "3\n"
     ]
    }
   ],
   "source": [
    "start_dates = []\n",
    "end_dates = []\n",
    "gm_dates = stat_df.iloc[:,0]\n",
    "for gm in gm_dates:\n",
    "    try:\n",
    "        gm = pd.to_datetime(gm)\n",
    "        start_dates.append(gm)\n",
    "        gm = gm - timedelta(days=1)\n",
    "        end_dates.append(gm)\n",
    "        \n",
    "    except:\n",
    "        continue\n",
    "    \n",
    "#print(start_dates)\n",
    "#print(end_dates)\n",
    "\n",
    "game_windows = pd.DataFrame(data={'start_date':[x for x in start_dates],'end_date': [y for y in end_dates]})\n",
    "#gw1 = list(pd.date_range(start = (x for x in start_dates), end= (y for y in end_dates)))\n",
    "for x, y in zip(start_dates, end_dates):\n",
    "    c = 0\n",
    "    c+= 1\n",
    "    with open('ovechkin_dates.csv', 'w', encoding='utf-8'):\n",
    "        #print(x, y)\n",
    "        time = pd.date_range(start = (x), end= (y), freq = 'M')\n",
    "        #print(time)\n",
    "        test = parse('2013-01-18 19:10:00-05:00')\n",
    "        test1 = parse('2013-01-18 20:10:00-05:00')\n",
    "        test2 = parse('2013-01-17 21:10:00-05:00')\n",
    "        test_list = [test, test1, test2]\n",
    "        \n",
    "        end = parse('2013-01-19 19:00:00-05:00')\n",
    "        start = parse('2013-01-18 19:00:00-05:00')\n",
    "        #print(test)\n",
    "        \n",
    "        results = [ele >= start and ele <= end for ele in test_list]\n",
    "        counter = 0\n",
    "        \n",
    "        for r in results:\n",
    "            if True:\n",
    "                counter += 1\n",
    "                print(counter)\n",
    "        if c == 1:\n",
    "            break\n",
    "                    \n",
    "\n",
    "\n",
    "#print(game_windows)"
   ]
  },
  {
   "cell_type": "code",
   "execution_count": null,
   "metadata": {},
   "outputs": [],
   "source": [
    "def creating_dates(row, date_list):\n",
    "    dates = list(game_windows)\n",
    "    print(dates)\n"
   ]
  },
  {
   "cell_type": "code",
   "execution_count": 33,
   "metadata": {},
   "outputs": [
    {
     "data": {
      "text/html": [
       "<div>\n",
       "<style scoped>\n",
       "    .dataframe tbody tr th:only-of-type {\n",
       "        vertical-align: middle;\n",
       "    }\n",
       "\n",
       "    .dataframe tbody tr th {\n",
       "        vertical-align: top;\n",
       "    }\n",
       "\n",
       "    .dataframe thead th {\n",
       "        text-align: right;\n",
       "    }\n",
       "</style>\n",
       "<table border=\"1\" class=\"dataframe\">\n",
       "  <thead>\n",
       "    <tr style=\"text-align: right;\">\n",
       "      <th></th>\n",
       "      <th>start_date</th>\n",
       "      <th>end_date</th>\n",
       "    </tr>\n",
       "  </thead>\n",
       "  <tbody>\n",
       "    <tr>\n",
       "      <th>0</th>\n",
       "      <td>2013-01-19 19:00:00-05:00</td>\n",
       "      <td>2013-01-18 19:00:00-05:00</td>\n",
       "    </tr>\n",
       "    <tr>\n",
       "      <th>1</th>\n",
       "      <td>2013-01-22 19:00:00-05:00</td>\n",
       "      <td>2013-01-21 19:00:00-05:00</td>\n",
       "    </tr>\n",
       "    <tr>\n",
       "      <th>2</th>\n",
       "      <td>2013-01-24 19:00:00-05:00</td>\n",
       "      <td>2013-01-23 19:00:00-05:00</td>\n",
       "    </tr>\n",
       "    <tr>\n",
       "      <th>3</th>\n",
       "      <td>2013-01-25 19:00:00-05:00</td>\n",
       "      <td>2013-01-24 19:00:00-05:00</td>\n",
       "    </tr>\n",
       "    <tr>\n",
       "      <th>4</th>\n",
       "      <td>2013-01-27 15:00:00-05:00</td>\n",
       "      <td>2013-01-26 15:00:00-05:00</td>\n",
       "    </tr>\n",
       "    <tr>\n",
       "      <th>...</th>\n",
       "      <td>...</td>\n",
       "      <td>...</td>\n",
       "    </tr>\n",
       "    <tr>\n",
       "      <th>675</th>\n",
       "      <td>2021-12-29 19:00:00-05:00</td>\n",
       "      <td>2021-12-28 19:00:00-05:00</td>\n",
       "    </tr>\n",
       "    <tr>\n",
       "      <th>676</th>\n",
       "      <td>2021-12-31 19:30:00-05:00</td>\n",
       "      <td>2021-12-30 19:30:00-05:00</td>\n",
       "    </tr>\n",
       "    <tr>\n",
       "      <th>677</th>\n",
       "      <td>2022-01-02 15:00:00-05:00</td>\n",
       "      <td>2022-01-01 15:00:00-05:00</td>\n",
       "    </tr>\n",
       "    <tr>\n",
       "      <th>678</th>\n",
       "      <td>2022-01-07 20:00:00-05:00</td>\n",
       "      <td>2022-01-06 20:00:00-05:00</td>\n",
       "    </tr>\n",
       "    <tr>\n",
       "      <th>679</th>\n",
       "      <td>2022-01-08 20:00:00-05:00</td>\n",
       "      <td>2022-01-07 20:00:00-05:00</td>\n",
       "    </tr>\n",
       "  </tbody>\n",
       "</table>\n",
       "<p>680 rows × 2 columns</p>\n",
       "</div>"
      ],
      "text/plain": [
       "                    start_date                   end_date\n",
       "0    2013-01-19 19:00:00-05:00  2013-01-18 19:00:00-05:00\n",
       "1    2013-01-22 19:00:00-05:00  2013-01-21 19:00:00-05:00\n",
       "2    2013-01-24 19:00:00-05:00  2013-01-23 19:00:00-05:00\n",
       "3    2013-01-25 19:00:00-05:00  2013-01-24 19:00:00-05:00\n",
       "4    2013-01-27 15:00:00-05:00  2013-01-26 15:00:00-05:00\n",
       "..                         ...                        ...\n",
       "675  2021-12-29 19:00:00-05:00  2021-12-28 19:00:00-05:00\n",
       "676  2021-12-31 19:30:00-05:00  2021-12-30 19:30:00-05:00\n",
       "677  2022-01-02 15:00:00-05:00  2022-01-01 15:00:00-05:00\n",
       "678  2022-01-07 20:00:00-05:00  2022-01-06 20:00:00-05:00\n",
       "679  2022-01-08 20:00:00-05:00  2022-01-07 20:00:00-05:00\n",
       "\n",
       "[680 rows x 2 columns]"
      ]
     },
     "execution_count": 33,
     "metadata": {},
     "output_type": "execute_result"
    }
   ],
   "source": [
    "game_windows"
   ]
  },
  {
   "cell_type": "markdown",
   "metadata": {},
   "source": [
    "Not catching data currently, date ranges need to be defined as demonstrated above"
   ]
  },
  {
   "cell_type": "code",
   "execution_count": 19,
   "metadata": {},
   "outputs": [
    {
     "name": "stdout",
     "output_type": "stream",
     "text": [
      "0 good points of data, 0 postgame tweets\n"
     ]
    }
   ],
   "source": [
    "from datetime import timedelta\n",
    "\n",
    "data_points = []\n",
    "post_game = 0\n",
    "tweet_dates = twitter_df.iloc[:,0]\n",
    "#tweet_times = twitter_df.iloc[:,1]\n",
    "for dt in tweet_dates:\n",
    "    dt = pd.to_datetime(dt)\n",
    "    #Use timedates to create if statements\n",
    "    #Try within 24 hours of puckdrop, also from midnight on gameday\n",
    "    if dt in game_list:\n",
    "        gm_time = pd.to_datetime(gm_time)\n",
    "        gm = pd.to_datetime(gm)\n",
    "        if gm < gm_time:\n",
    "            data_points.append(gm)\n",
    "        else:\n",
    "            post_game += 1\n",
    "\n",
    "\n",
    "print(f'{len(data_points)} good points of data, {post_game} postgame tweets')"
   ]
  },
  {
   "cell_type": "code",
   "execution_count": 9,
   "metadata": {},
   "outputs": [],
   "source": [
    "for d in data_points:\n",
    "    print(d)"
   ]
  },
  {
   "cell_type": "markdown",
   "metadata": {},
   "source": [
    "Maybe need to include puck drop times? Would require altering stat scraper, and likely slowing it down signifigantly, to the magnitute of rendering an entire new webpage in beautfiul soup per row in the dataset. For Ovechkin this would include 1228 pages! Maybe I should use selenium as an alternative. However at least for Ovechkin, no gameday tweets were scheduled for 7pm EST. BRB Looking at tweet timestamps"
   ]
  },
  {
   "cell_type": "code",
   "execution_count": 9,
   "metadata": {},
   "outputs": [],
   "source": [
    "for point in data_points:\n",
    "    print(point)"
   ]
  },
  {
   "cell_type": "code",
   "execution_count": null,
   "metadata": {},
   "outputs": [],
   "source": []
  }
 ],
 "metadata": {
  "kernelspec": {
   "display_name": "Python 3",
   "language": "python",
   "name": "python3"
  },
  "language_info": {
   "codemirror_mode": {
    "name": "ipython",
    "version": 3
   },
   "file_extension": ".py",
   "mimetype": "text/x-python",
   "name": "python",
   "nbconvert_exporter": "python",
   "pygments_lexer": "ipython3",
   "version": "3.8.5"
  }
 },
 "nbformat": 4,
 "nbformat_minor": 4
}
