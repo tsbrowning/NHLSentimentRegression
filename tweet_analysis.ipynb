{
 "cells": [
  {
   "cell_type": "markdown",
   "metadata": {},
   "source": [
    "Need to look over which libraries to use for seintiment analysis.\n",
    "Plan on comparing token based, tweet based, and sentence based sentiment analysis."
   ]
  },
  {
   "cell_type": "code",
   "execution_count": null,
   "metadata": {},
   "outputs": [],
   "source": [
    "import csv\n",
    "import re\n",
    "from nltk.stem import WordNetLemmatizer\n",
    "from nltk.corpus import stopwords\n",
    "import time\n",
    "\n",
    "\n",
    "lemmatizer = WordNetLemmatizer()\n",
    "\n",
    "start = time.time()\n",
    "handle = input('Twitter handle: ')\n",
    "tweets = f'{handle}.csv'\n",
    "with open(tweets, encoding = 'utf-8', errors='false') as csv_file:\n",
    "    with open('ppimdb.csv', 'w', encoding= 'utf-8') as w:\n",
    "        writer = csv.writer(w)\n",
    "        csv_reader = csv.reader(csv_file, delimiter=',')\n",
    "        count = 0\n",
    "        for row in csv_reader:\n",
    "            if count == 0:\n",
    "                pass\n",
    "                #row[0] = row[0] + ','\n",
    "                #print('column names are:', row[0], row[1])\n",
    "                count += 1\n",
    "            else:\n",
    "                row[1] = row[1] + '\\n'\n",
    "                txt = row[0]\n",
    "                ##newlines being written as '<br />', replacing these tags with '\\n'\n",
    "                txt = re.sub('\\<br />', '\\n', txt)\n",
    "                ##removing punctuation from text\n",
    "                txt = re.sub(r'[^\\w\\s]', '', txt)\n",
    "                ##removing digits from text\n",
    "                txt = re.sub(r'\\d', '', txt)\n",
    "                ##lowercasing all characters\n",
    "                txt = txt.lower()\n",
    "                ##splitting words into tokens in order to remove stopwords\n",
    "                txt = txt.split()\n",
    "                ftxt = [word for word in txt if not word in stopwords.words()]\n",
    "                txt1 = []\n",
    "                for w in ftxt:\n",
    "                    if w.isdigit():\n",
    "                        skip\n",
    "                    else:\n",
    "                        w = lemmatizer.lemmatize(w)\n",
    "                        txt1.append(w)\n",
    "                \n",
    "                txt2 = ' '.join(txt1)\n",
    "                txt2 = re.sub('\\n', '', txt2)\n",
    "                count += 1\n",
    "\n",
    "            \n",
    "            if row[1] == 'positive\\n':\n",
    "                out = ['1']\n",
    "                #ent = '1, ' + txt2\n",
    "                #print(ent)\n",
    "                out.append(txt2)\n",
    "                writer.writerow(out)\n",
    "            else:\n",
    "                out = ['0']\n",
    "                #ent = '0, ' + txt2\n",
    "                #print(ent)\n",
    "                out.append(txt2)\n",
    "                writer.writerow(out)\n",
    "\n",
    "            \n",
    "    \n",
    "end = time.time()\n",
    "clock = end - start\n",
    "print('processing time: ', clock)"
   ]
  }
 ],
 "metadata": {
  "kernelspec": {
   "display_name": "Python 3",
   "language": "python",
   "name": "python3"
  },
  "language_info": {
   "codemirror_mode": {
    "name": "ipython",
    "version": 3
   },
   "file_extension": ".py",
   "mimetype": "text/x-python",
   "name": "python",
   "nbconvert_exporter": "python",
   "pygments_lexer": "ipython3",
   "version": "3.8.5"
  }
 },
 "nbformat": 4,
 "nbformat_minor": 4
}
