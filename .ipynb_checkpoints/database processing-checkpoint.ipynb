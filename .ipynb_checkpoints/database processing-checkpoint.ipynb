{
 "cells": [
  {
   "cell_type": "markdown",
   "metadata": {},
   "source": [
    "## SETUP "
   ]
  },
  {
   "cell_type": "code",
   "execution_count": 1,
   "metadata": {},
   "outputs": [],
   "source": [
    "#import libraries\n",
    "import pandas as pd\n",
    "import sqlite3"
   ]
  },
  {
   "cell_type": "code",
   "execution_count": 4,
   "metadata": {},
   "outputs": [],
   "source": [
    "#df = pd.DataFrame(#data here :/)\n",
    "\n",
    "df = pd.DataFrame({'name': ['Juan', 'Victoria', 'Mary'], \\\n",
    "'age': [23, 34, 43], 'city': ['Miami', 'Buenos Aries', 'Santiago']})\n"
   ]
  },
  {
   "cell_type": "code",
   "execution_count": 5,
   "metadata": {},
   "outputs": [
    {
     "data": {
      "text/html": [
       "<div>\n",
       "<style scoped>\n",
       "    .dataframe tbody tr th:only-of-type {\n",
       "        vertical-align: middle;\n",
       "    }\n",
       "\n",
       "    .dataframe tbody tr th {\n",
       "        vertical-align: top;\n",
       "    }\n",
       "\n",
       "    .dataframe thead th {\n",
       "        text-align: right;\n",
       "    }\n",
       "</style>\n",
       "<table border=\"1\" class=\"dataframe\">\n",
       "  <thead>\n",
       "    <tr style=\"text-align: right;\">\n",
       "      <th></th>\n",
       "      <th>name</th>\n",
       "      <th>age</th>\n",
       "      <th>city</th>\n",
       "    </tr>\n",
       "  </thead>\n",
       "  <tbody>\n",
       "    <tr>\n",
       "      <th>0</th>\n",
       "      <td>Juan</td>\n",
       "      <td>23</td>\n",
       "      <td>Miami</td>\n",
       "    </tr>\n",
       "    <tr>\n",
       "      <th>1</th>\n",
       "      <td>Victoria</td>\n",
       "      <td>34</td>\n",
       "      <td>Buenos Aries</td>\n",
       "    </tr>\n",
       "    <tr>\n",
       "      <th>2</th>\n",
       "      <td>Mary</td>\n",
       "      <td>43</td>\n",
       "      <td>Santiago</td>\n",
       "    </tr>\n",
       "  </tbody>\n",
       "</table>\n",
       "</div>"
      ],
      "text/plain": [
       "       name  age          city\n",
       "0      Juan   23         Miami\n",
       "1  Victoria   34  Buenos Aries\n",
       "2      Mary   43      Santiago"
      ]
     },
     "execution_count": 5,
     "metadata": {},
     "output_type": "execute_result"
    }
   ],
   "source": [
    "df"
   ]
  },
  {
   "cell_type": "code",
   "execution_count": 7,
   "metadata": {},
   "outputs": [],
   "source": [
    "#We will sqlite3 library and create a connection\n",
    "cnn = sqlite3.connect('jupyter_sql_tutorial.db')"
   ]
  },
  {
   "cell_type": "code",
   "execution_count": 11,
   "metadata": {},
   "outputs": [],
   "source": [
    "df.to_sql('people', cnn)"
   ]
  },
  {
   "cell_type": "code",
   "execution_count": 12,
   "metadata": {},
   "outputs": [
    {
     "name": "stdout",
     "output_type": "stream",
     "text": [
      "The sql extension is already loaded. To reload it, use:\n",
      "  %reload_ext sql\n"
     ]
    }
   ],
   "source": [
    "%load_ext sql"
   ]
  },
  {
   "cell_type": "code",
   "execution_count": 15,
   "metadata": {},
   "outputs": [],
   "source": [
    "%sql sqlite:///jupyter_sql_tutorial.db"
   ]
  },
  {
   "cell_type": "code",
   "execution_count": 17,
   "metadata": {},
   "outputs": [
    {
     "name": "stdout",
     "output_type": "stream",
     "text": [
      " * sqlite:///jupyter_sql_tutorial.db\n",
      "Done.\n"
     ]
    },
    {
     "data": {
      "text/html": [
       "<table>\n",
       "    <tr>\n",
       "        <th>index</th>\n",
       "        <th>name</th>\n",
       "        <th>age</th>\n",
       "        <th>city</th>\n",
       "    </tr>\n",
       "    <tr>\n",
       "        <td>0</td>\n",
       "        <td>Juan</td>\n",
       "        <td>23</td>\n",
       "        <td>Miami</td>\n",
       "    </tr>\n",
       "    <tr>\n",
       "        <td>1</td>\n",
       "        <td>Victoria</td>\n",
       "        <td>34</td>\n",
       "        <td>Buenos Aries</td>\n",
       "    </tr>\n",
       "    <tr>\n",
       "        <td>2</td>\n",
       "        <td>Mary</td>\n",
       "        <td>43</td>\n",
       "        <td>Santiago</td>\n",
       "    </tr>\n",
       "</table>"
      ],
      "text/plain": [
       "[(0, 'Juan', 23, 'Miami'),\n",
       " (1, 'Victoria', 34, 'Buenos Aries'),\n",
       " (2, 'Mary', 43, 'Santiago')]"
      ]
     },
     "execution_count": 17,
     "metadata": {},
     "output_type": "execute_result"
    }
   ],
   "source": [
    "%%sql\n",
    "SELECT *\n",
    "FROM people"
   ]
  },
  {
   "cell_type": "code",
   "execution_count": 18,
   "metadata": {},
   "outputs": [
    {
     "name": "stdout",
     "output_type": "stream",
     "text": [
      " * sqlite:///jupyter_sql_tutorial.db\n",
      "Done.\n"
     ]
    },
    {
     "data": {
      "text/html": [
       "<table>\n",
       "    <tr>\n",
       "        <th>count(*)</th>\n",
       "    </tr>\n",
       "    <tr>\n",
       "        <td>3</td>\n",
       "    </tr>\n",
       "</table>"
      ],
      "text/plain": [
       "[(3,)]"
      ]
     },
     "execution_count": 18,
     "metadata": {},
     "output_type": "execute_result"
    }
   ],
   "source": [
    "%%sql\n",
    "SELECT count(*)\n",
    "FROM people"
   ]
  },
  {
   "cell_type": "code",
   "execution_count": 19,
   "metadata": {},
   "outputs": [
    {
     "name": "stdout",
     "output_type": "stream",
     "text": [
      " * sqlite:///jupyter_sql_tutorial.db\n",
      "Done.\n"
     ]
    },
    {
     "data": {
      "text/html": [
       "<table>\n",
       "    <tr>\n",
       "        <th>age_sum</th>\n",
       "    </tr>\n",
       "    <tr>\n",
       "        <td>100</td>\n",
       "    </tr>\n",
       "</table>"
      ],
      "text/plain": [
       "[(100,)]"
      ]
     },
     "execution_count": 19,
     "metadata": {},
     "output_type": "execute_result"
    }
   ],
   "source": [
    "%%sql\n",
    "SELECT sum(age) as 'age_sum'\n",
    "FROM people"
   ]
  },
  {
   "cell_type": "markdown",
   "metadata": {},
   "source": [
    "## Parameters walkthrough"
   ]
  },
  {
   "cell_type": "code",
   "execution_count": 20,
   "metadata": {},
   "outputs": [],
   "source": [
    "#create dummy dataframe\n",
    "df = pd.DataFrame({'transaction_id': ['9', '8', '7', '6', '5', '4', '3'], \\\n",
    "                  'user_id': ['rafa', 'roy', 'kenny', 'brendan', 'jurgen', 'roy', 'roy'],\\\n",
    "                  'transaction_date': ['2021-12-21', '2020-12-21', '2019-12-21',\\\n",
    "                                       '2018-11-21', '2017-10-21', '2019-03-02', '2010-01-01'],\\\n",
    "                  'amount': ['10', '15', '20', '24', '25', '31', '42']})"
   ]
  },
  {
   "cell_type": "code",
   "execution_count": 21,
   "metadata": {},
   "outputs": [
    {
     "data": {
      "text/html": [
       "<div>\n",
       "<style scoped>\n",
       "    .dataframe tbody tr th:only-of-type {\n",
       "        vertical-align: middle;\n",
       "    }\n",
       "\n",
       "    .dataframe tbody tr th {\n",
       "        vertical-align: top;\n",
       "    }\n",
       "\n",
       "    .dataframe thead th {\n",
       "        text-align: right;\n",
       "    }\n",
       "</style>\n",
       "<table border=\"1\" class=\"dataframe\">\n",
       "  <thead>\n",
       "    <tr style=\"text-align: right;\">\n",
       "      <th></th>\n",
       "      <th>transaction_id</th>\n",
       "      <th>user_id</th>\n",
       "      <th>transaction_date</th>\n",
       "      <th>amount</th>\n",
       "    </tr>\n",
       "  </thead>\n",
       "  <tbody>\n",
       "    <tr>\n",
       "      <th>0</th>\n",
       "      <td>9</td>\n",
       "      <td>rafa</td>\n",
       "      <td>2021-12-21</td>\n",
       "      <td>10</td>\n",
       "    </tr>\n",
       "    <tr>\n",
       "      <th>1</th>\n",
       "      <td>8</td>\n",
       "      <td>roy</td>\n",
       "      <td>2020-12-21</td>\n",
       "      <td>15</td>\n",
       "    </tr>\n",
       "    <tr>\n",
       "      <th>2</th>\n",
       "      <td>7</td>\n",
       "      <td>kenny</td>\n",
       "      <td>2019-12-21</td>\n",
       "      <td>20</td>\n",
       "    </tr>\n",
       "    <tr>\n",
       "      <th>3</th>\n",
       "      <td>6</td>\n",
       "      <td>brendan</td>\n",
       "      <td>2018-11-21</td>\n",
       "      <td>24</td>\n",
       "    </tr>\n",
       "    <tr>\n",
       "      <th>4</th>\n",
       "      <td>5</td>\n",
       "      <td>jurgen</td>\n",
       "      <td>2017-10-21</td>\n",
       "      <td>25</td>\n",
       "    </tr>\n",
       "    <tr>\n",
       "      <th>5</th>\n",
       "      <td>4</td>\n",
       "      <td>roy</td>\n",
       "      <td>2019-03-02</td>\n",
       "      <td>31</td>\n",
       "    </tr>\n",
       "    <tr>\n",
       "      <th>6</th>\n",
       "      <td>3</td>\n",
       "      <td>roy</td>\n",
       "      <td>2010-01-01</td>\n",
       "      <td>42</td>\n",
       "    </tr>\n",
       "  </tbody>\n",
       "</table>\n",
       "</div>"
      ],
      "text/plain": [
       "  transaction_id  user_id transaction_date amount\n",
       "0              9     rafa       2021-12-21     10\n",
       "1              8      roy       2020-12-21     15\n",
       "2              7    kenny       2019-12-21     20\n",
       "3              6  brendan       2018-11-21     24\n",
       "4              5   jurgen       2017-10-21     25\n",
       "5              4      roy       2019-03-02     31\n",
       "6              3      roy       2010-01-01     42"
      ]
     },
     "execution_count": 21,
     "metadata": {},
     "output_type": "execute_result"
    }
   ],
   "source": [
    "df"
   ]
  },
  {
   "cell_type": "code",
   "execution_count": 22,
   "metadata": {},
   "outputs": [],
   "source": [
    "#We will sqlite3 library and create a connection\n",
    "cnn = sqlite3.connect('dummy.db')"
   ]
  },
  {
   "cell_type": "code",
   "execution_count": 29,
   "metadata": {},
   "outputs": [],
   "source": [
    "df.to_sql('managers1', cnn)"
   ]
  },
  {
   "cell_type": "code",
   "execution_count": 30,
   "metadata": {},
   "outputs": [],
   "source": [
    "%reload_ext sql"
   ]
  },
  {
   "cell_type": "code",
   "execution_count": 31,
   "metadata": {},
   "outputs": [],
   "source": [
    "%sql sqlite:///dummy.db"
   ]
  },
  {
   "cell_type": "code",
   "execution_count": 32,
   "metadata": {},
   "outputs": [
    {
     "name": "stdout",
     "output_type": "stream",
     "text": [
      " * sqlite:///dummy.db\n",
      "Done.\n"
     ]
    },
    {
     "data": {
      "text/html": [
       "<table>\n",
       "    <tr>\n",
       "        <th>index</th>\n",
       "        <th>transaction_id</th>\n",
       "        <th>user_id</th>\n",
       "        <th>transaction_date</th>\n",
       "        <th>amount</th>\n",
       "    </tr>\n",
       "    <tr>\n",
       "        <td>0</td>\n",
       "        <td>9</td>\n",
       "        <td>rafa</td>\n",
       "        <td>2021-12-21</td>\n",
       "        <td>10</td>\n",
       "    </tr>\n",
       "    <tr>\n",
       "        <td>1</td>\n",
       "        <td>8</td>\n",
       "        <td>roy</td>\n",
       "        <td>2020-12-21</td>\n",
       "        <td>15</td>\n",
       "    </tr>\n",
       "    <tr>\n",
       "        <td>2</td>\n",
       "        <td>7</td>\n",
       "        <td>kenny</td>\n",
       "        <td>2019-12-21</td>\n",
       "        <td>20</td>\n",
       "    </tr>\n",
       "    <tr>\n",
       "        <td>3</td>\n",
       "        <td>6</td>\n",
       "        <td>brendan</td>\n",
       "        <td>2018-11-21</td>\n",
       "        <td>24</td>\n",
       "    </tr>\n",
       "    <tr>\n",
       "        <td>4</td>\n",
       "        <td>5</td>\n",
       "        <td>jurgen</td>\n",
       "        <td>2017-10-21</td>\n",
       "        <td>25</td>\n",
       "    </tr>\n",
       "    <tr>\n",
       "        <td>5</td>\n",
       "        <td>4</td>\n",
       "        <td>roy</td>\n",
       "        <td>2019-03-02</td>\n",
       "        <td>31</td>\n",
       "    </tr>\n",
       "    <tr>\n",
       "        <td>6</td>\n",
       "        <td>3</td>\n",
       "        <td>roy</td>\n",
       "        <td>2010-01-01</td>\n",
       "        <td>42</td>\n",
       "    </tr>\n",
       "</table>"
      ],
      "text/plain": [
       "[(0, '9', 'rafa', '2021-12-21', '10'),\n",
       " (1, '8', 'roy', '2020-12-21', '15'),\n",
       " (2, '7', 'kenny', '2019-12-21', '20'),\n",
       " (3, '6', 'brendan', '2018-11-21', '24'),\n",
       " (4, '5', 'jurgen', '2017-10-21', '25'),\n",
       " (5, '4', 'roy', '2019-03-02', '31'),\n",
       " (6, '3', 'roy', '2010-01-01', '42')]"
      ]
     },
     "execution_count": 32,
     "metadata": {},
     "output_type": "execute_result"
    }
   ],
   "source": [
    "%%sql\n",
    "SELECT *\n",
    "FROM managers1"
   ]
  },
  {
   "cell_type": "code",
   "execution_count": 34,
   "metadata": {},
   "outputs": [
    {
     "name": "stdout",
     "output_type": "stream",
     "text": [
      " * sqlite:///dummy.db\n",
      "Done.\n"
     ]
    },
    {
     "data": {
      "text/html": [
       "<table>\n",
       "    <tr>\n",
       "        <th>spend_sum</th>\n",
       "    </tr>\n",
       "    <tr>\n",
       "        <td>167</td>\n",
       "    </tr>\n",
       "</table>"
      ],
      "text/plain": [
       "[(167,)]"
      ]
     },
     "execution_count": 34,
     "metadata": {},
     "output_type": "execute_result"
    }
   ],
   "source": [
    "%%sql\n",
    "SELECT sum(amount) as 'spend_sum'\n",
    "FROM managers1"
   ]
  },
  {
   "cell_type": "code",
   "execution_count": 35,
   "metadata": {},
   "outputs": [
    {
     "name": "stdout",
     "output_type": "stream",
     "text": [
      " * sqlite:///dummy.db\n",
      "Done.\n"
     ]
    },
    {
     "data": {
      "text/html": [
       "<table>\n",
       "    <tr>\n",
       "        <th>user_id</th>\n",
       "        <th>num_transactions</th>\n",
       "        <th>total_amount</th>\n",
       "    </tr>\n",
       "    <tr>\n",
       "        <td>roy</td>\n",
       "        <td>1</td>\n",
       "        <td>31</td>\n",
       "    </tr>\n",
       "</table>"
      ],
      "text/plain": [
       "[('roy', 1, 31)]"
      ]
     },
     "execution_count": 35,
     "metadata": {},
     "output_type": "execute_result"
    }
   ],
   "source": [
    "%%sql\n",
    "SELECT \n",
    "    user_id\n",
    "    , count(*) as num_transactions\n",
    "    , sum(amount) as total_amount\n",
    "FROM\n",
    "    managers1\n",
    "WHERE\n",
    "    user_id = 'roy'\n",
    "    and transaction_date = '2019-03-02'"
   ]
  },
  {
   "cell_type": "markdown",
   "metadata": {},
   "source": [
    "## For real this time"
   ]
  },
  {
   "cell_type": "markdown",
   "metadata": {},
   "source": [
    "ovechal01, ovi8\n",
    "\n",
    "1228 * 11,\n"
   ]
  },
  {
   "cell_type": "code",
   "execution_count": 1,
   "metadata": {},
   "outputs": [],
   "source": [
    "#import libraries\n",
    "import pandas as pd\n",
    "import sqlite3"
   ]
  },
  {
   "cell_type": "code",
   "execution_count": 2,
   "metadata": {},
   "outputs": [
    {
     "name": "stdout",
     "output_type": "stream",
     "text": [
      "stat handle:carrico01\n"
     ]
    }
   ],
   "source": [
    "stat_handle = input('stat handle:')\n",
    "stat_sheet = f'./data/{stat_handle}_stats.csv'\n",
    "stat_df = pd.read_csv(stat_sheet, sep= '\\t', header= 0, index_col= None)"
   ]
  },
  {
   "cell_type": "code",
   "execution_count": 3,
   "metadata": {},
   "outputs": [
    {
     "data": {
      "text/html": [
       "<div>\n",
       "<style scoped>\n",
       "    .dataframe tbody tr th:only-of-type {\n",
       "        vertical-align: middle;\n",
       "    }\n",
       "\n",
       "    .dataframe tbody tr th {\n",
       "        vertical-align: top;\n",
       "    }\n",
       "\n",
       "    .dataframe thead th {\n",
       "        text-align: right;\n",
       "    }\n",
       "</style>\n",
       "<table border=\"1\" class=\"dataframe\">\n",
       "  <thead>\n",
       "    <tr style=\"text-align: right;\">\n",
       "      <th></th>\n",
       "      <th>date</th>\n",
       "      <th>goals</th>\n",
       "      <th>assists</th>\n",
       "      <th>+/-</th>\n",
       "      <th>pim</th>\n",
       "      <th>shots</th>\n",
       "      <th>shot%</th>\n",
       "      <th>TOI</th>\n",
       "      <th>hits</th>\n",
       "      <th>blocks</th>\n",
       "      <th>faceoff %</th>\n",
       "    </tr>\n",
       "  </thead>\n",
       "  <tbody>\n",
       "    <tr>\n",
       "      <th>0</th>\n",
       "      <td>2013-10-01</td>\n",
       "      <td>0</td>\n",
       "      <td>0</td>\n",
       "      <td>-2</td>\n",
       "      <td>2</td>\n",
       "      <td>0</td>\n",
       "      <td>NaN</td>\n",
       "      <td>10:45</td>\n",
       "      <td>2</td>\n",
       "      <td>0</td>\n",
       "      <td>NaN</td>\n",
       "    </tr>\n",
       "    <tr>\n",
       "      <th>1</th>\n",
       "      <td>2013-10-03</td>\n",
       "      <td>1</td>\n",
       "      <td>0</td>\n",
       "      <td>0</td>\n",
       "      <td>2</td>\n",
       "      <td>4</td>\n",
       "      <td>25.0</td>\n",
       "      <td>17:26</td>\n",
       "      <td>2</td>\n",
       "      <td>0</td>\n",
       "      <td>NaN</td>\n",
       "    </tr>\n",
       "    <tr>\n",
       "      <th>2</th>\n",
       "      <td>2013-10-05</td>\n",
       "      <td>0</td>\n",
       "      <td>0</td>\n",
       "      <td>0</td>\n",
       "      <td>2</td>\n",
       "      <td>1</td>\n",
       "      <td>0.0</td>\n",
       "      <td>12:41</td>\n",
       "      <td>0</td>\n",
       "      <td>1</td>\n",
       "      <td>NaN</td>\n",
       "    </tr>\n",
       "    <tr>\n",
       "      <th>3</th>\n",
       "      <td>2014-01-09</td>\n",
       "      <td>0</td>\n",
       "      <td>0</td>\n",
       "      <td>-1</td>\n",
       "      <td>0</td>\n",
       "      <td>0</td>\n",
       "      <td>NaN</td>\n",
       "      <td>12:59</td>\n",
       "      <td>1</td>\n",
       "      <td>2</td>\n",
       "      <td>NaN</td>\n",
       "    </tr>\n",
       "    <tr>\n",
       "      <th>4</th>\n",
       "      <td>2014-01-10</td>\n",
       "      <td>0</td>\n",
       "      <td>0</td>\n",
       "      <td>0</td>\n",
       "      <td>0</td>\n",
       "      <td>1</td>\n",
       "      <td>0.0</td>\n",
       "      <td>13:37</td>\n",
       "      <td>3</td>\n",
       "      <td>0</td>\n",
       "      <td>NaN</td>\n",
       "    </tr>\n",
       "    <tr>\n",
       "      <th>...</th>\n",
       "      <td>...</td>\n",
       "      <td>...</td>\n",
       "      <td>...</td>\n",
       "      <td>...</td>\n",
       "      <td>...</td>\n",
       "      <td>...</td>\n",
       "      <td>...</td>\n",
       "      <td>...</td>\n",
       "      <td>...</td>\n",
       "      <td>...</td>\n",
       "      <td>...</td>\n",
       "    </tr>\n",
       "    <tr>\n",
       "      <th>236</th>\n",
       "      <td>2021-04-29</td>\n",
       "      <td>0</td>\n",
       "      <td>0</td>\n",
       "      <td>1</td>\n",
       "      <td>5</td>\n",
       "      <td>0</td>\n",
       "      <td>NaN</td>\n",
       "      <td>19:19</td>\n",
       "      <td>1</td>\n",
       "      <td>2</td>\n",
       "      <td>NaN</td>\n",
       "    </tr>\n",
       "    <tr>\n",
       "      <th>237</th>\n",
       "      <td>2021-05-01</td>\n",
       "      <td>0</td>\n",
       "      <td>0</td>\n",
       "      <td>2</td>\n",
       "      <td>0</td>\n",
       "      <td>0</td>\n",
       "      <td>NaN</td>\n",
       "      <td>19:16</td>\n",
       "      <td>0</td>\n",
       "      <td>4</td>\n",
       "      <td>NaN</td>\n",
       "    </tr>\n",
       "    <tr>\n",
       "      <th>238</th>\n",
       "      <td>2021-05-03</td>\n",
       "      <td>0</td>\n",
       "      <td>0</td>\n",
       "      <td>-2</td>\n",
       "      <td>0</td>\n",
       "      <td>1</td>\n",
       "      <td>0.0</td>\n",
       "      <td>18:02</td>\n",
       "      <td>0</td>\n",
       "      <td>1</td>\n",
       "      <td>NaN</td>\n",
       "    </tr>\n",
       "    <tr>\n",
       "      <th>239</th>\n",
       "      <td>2021-05-04</td>\n",
       "      <td>0</td>\n",
       "      <td>0</td>\n",
       "      <td>-1</td>\n",
       "      <td>0</td>\n",
       "      <td>1</td>\n",
       "      <td>0.0</td>\n",
       "      <td>19:30</td>\n",
       "      <td>0</td>\n",
       "      <td>1</td>\n",
       "      <td>NaN</td>\n",
       "    </tr>\n",
       "    <tr>\n",
       "      <th>240</th>\n",
       "      <td>2021-05-06</td>\n",
       "      <td>0</td>\n",
       "      <td>0</td>\n",
       "      <td>-1</td>\n",
       "      <td>0</td>\n",
       "      <td>1</td>\n",
       "      <td>0.0</td>\n",
       "      <td>18:16</td>\n",
       "      <td>1</td>\n",
       "      <td>2</td>\n",
       "      <td>NaN</td>\n",
       "    </tr>\n",
       "  </tbody>\n",
       "</table>\n",
       "<p>241 rows × 11 columns</p>\n",
       "</div>"
      ],
      "text/plain": [
       "           date  goals  assists  +/-  pim  shots  shot%    TOI  hits  blocks  \\\n",
       "0    2013-10-01      0        0   -2    2      0    NaN  10:45     2       0   \n",
       "1    2013-10-03      1        0    0    2      4   25.0  17:26     2       0   \n",
       "2    2013-10-05      0        0    0    2      1    0.0  12:41     0       1   \n",
       "3    2014-01-09      0        0   -1    0      0    NaN  12:59     1       2   \n",
       "4    2014-01-10      0        0    0    0      1    0.0  13:37     3       0   \n",
       "..          ...    ...      ...  ...  ...    ...    ...    ...   ...     ...   \n",
       "236  2021-04-29      0        0    1    5      0    NaN  19:19     1       2   \n",
       "237  2021-05-01      0        0    2    0      0    NaN  19:16     0       4   \n",
       "238  2021-05-03      0        0   -2    0      1    0.0  18:02     0       1   \n",
       "239  2021-05-04      0        0   -1    0      1    0.0  19:30     0       1   \n",
       "240  2021-05-06      0        0   -1    0      1    0.0  18:16     1       2   \n",
       "\n",
       "     faceoff %  \n",
       "0          NaN  \n",
       "1          NaN  \n",
       "2          NaN  \n",
       "3          NaN  \n",
       "4          NaN  \n",
       "..         ...  \n",
       "236        NaN  \n",
       "237        NaN  \n",
       "238        NaN  \n",
       "239        NaN  \n",
       "240        NaN  \n",
       "\n",
       "[241 rows x 11 columns]"
      ]
     },
     "execution_count": 3,
     "metadata": {},
     "output_type": "execute_result"
    }
   ],
   "source": [
    "stat_df"
   ]
  },
  {
   "cell_type": "code",
   "execution_count": 4,
   "metadata": {},
   "outputs": [
    {
     "name": "stdout",
     "output_type": "stream",
     "text": [
      "twitter handle:connorcarrick\n"
     ]
    }
   ],
   "source": [
    "stat_handle = input('twitter handle:')\n",
    "stat_sheet = f'./data/{stat_handle}.csv'\n",
    "twitter_df = pd.read_csv(stat_sheet, sep= '\\t', header= 0, index_col= None)"
   ]
  },
  {
   "cell_type": "code",
   "execution_count": 5,
   "metadata": {},
   "outputs": [
    {
     "data": {
      "text/html": [
       "<div>\n",
       "<style scoped>\n",
       "    .dataframe tbody tr th:only-of-type {\n",
       "        vertical-align: middle;\n",
       "    }\n",
       "\n",
       "    .dataframe tbody tr th {\n",
       "        vertical-align: top;\n",
       "    }\n",
       "\n",
       "    .dataframe thead th {\n",
       "        text-align: right;\n",
       "    }\n",
       "</style>\n",
       "<table border=\"1\" class=\"dataframe\">\n",
       "  <thead>\n",
       "    <tr style=\"text-align: right;\">\n",
       "      <th></th>\n",
       "      <th>date</th>\n",
       "      <th>time</th>\n",
       "      <th>display name</th>\n",
       "      <th>content</th>\n",
       "    </tr>\n",
       "  </thead>\n",
       "  <tbody>\n",
       "    <tr>\n",
       "      <th>0</th>\n",
       "      <td>2021-12-20</td>\n",
       "      <td>00:58:34+00:00</td>\n",
       "      <td>Connor Carrick</td>\n",
       "      <td>@jpolly22 Happened to me in TO. Next level stu...</td>\n",
       "    </tr>\n",
       "    <tr>\n",
       "      <th>1</th>\n",
       "      <td>2021-12-12</td>\n",
       "      <td>14:42:59+00:00</td>\n",
       "      <td>Connor Carrick</td>\n",
       "      <td>Little chalk goes a long way. Wind was helping...</td>\n",
       "    </tr>\n",
       "    <tr>\n",
       "      <th>2</th>\n",
       "      <td>2021-12-11</td>\n",
       "      <td>14:01:08+00:00</td>\n",
       "      <td>Connor Carrick</td>\n",
       "      <td>@racheldoerrie Two sides of the same coin-the ...</td>\n",
       "    </tr>\n",
       "    <tr>\n",
       "      <th>3</th>\n",
       "      <td>2021-12-01</td>\n",
       "      <td>20:35:35+00:00</td>\n",
       "      <td>Connor Carrick</td>\n",
       "      <td>@LKemp42 And by honestly, I mean dishonestly. ...</td>\n",
       "    </tr>\n",
       "    <tr>\n",
       "      <th>4</th>\n",
       "      <td>2021-11-24</td>\n",
       "      <td>18:52:09+00:00</td>\n",
       "      <td>Connor Carrick</td>\n",
       "      <td>@DimFilipovic What a treat to watch this today</td>\n",
       "    </tr>\n",
       "    <tr>\n",
       "      <th>...</th>\n",
       "      <td>...</td>\n",
       "      <td>...</td>\n",
       "      <td>...</td>\n",
       "      <td>...</td>\n",
       "    </tr>\n",
       "    <tr>\n",
       "      <th>6990</th>\n",
       "      <td>2011-08-19</td>\n",
       "      <td>04:58:27+00:00</td>\n",
       "      <td>Connor Carrick</td>\n",
       "      <td>@IanBrady1 how was piestany bro #thefoodsucked</td>\n",
       "    </tr>\n",
       "    <tr>\n",
       "      <th>6991</th>\n",
       "      <td>2011-08-19</td>\n",
       "      <td>04:51:00+00:00</td>\n",
       "      <td>Connor Carrick</td>\n",
       "      <td>@psieloff94 pat, his name is martin st. louis ...</td>\n",
       "    </tr>\n",
       "    <tr>\n",
       "      <th>6992</th>\n",
       "      <td>2011-08-19</td>\n",
       "      <td>04:42:23+00:00</td>\n",
       "      <td>Connor Carrick</td>\n",
       "      <td>@psieloff94 i block shots like its my job #cal...</td>\n",
       "    </tr>\n",
       "    <tr>\n",
       "      <th>6993</th>\n",
       "      <td>2011-08-19</td>\n",
       "      <td>04:22:38+00:00</td>\n",
       "      <td>Connor Carrick</td>\n",
       "      <td>@filthyGRINDer9 haha i got mine done yesterday...</td>\n",
       "    </tr>\n",
       "    <tr>\n",
       "      <th>6994</th>\n",
       "      <td>2011-08-18</td>\n",
       "      <td>17:55:32+00:00</td>\n",
       "      <td>Connor Carrick</td>\n",
       "      <td>@MilesKoules forehand backhand upstairs #where...</td>\n",
       "    </tr>\n",
       "  </tbody>\n",
       "</table>\n",
       "<p>6995 rows × 4 columns</p>\n",
       "</div>"
      ],
      "text/plain": [
       "            date            time    display name  \\\n",
       "0     2021-12-20  00:58:34+00:00  Connor Carrick   \n",
       "1     2021-12-12  14:42:59+00:00  Connor Carrick   \n",
       "2     2021-12-11  14:01:08+00:00  Connor Carrick   \n",
       "3     2021-12-01  20:35:35+00:00  Connor Carrick   \n",
       "4     2021-11-24  18:52:09+00:00  Connor Carrick   \n",
       "...          ...             ...             ...   \n",
       "6990  2011-08-19  04:58:27+00:00  Connor Carrick   \n",
       "6991  2011-08-19  04:51:00+00:00  Connor Carrick   \n",
       "6992  2011-08-19  04:42:23+00:00  Connor Carrick   \n",
       "6993  2011-08-19  04:22:38+00:00  Connor Carrick   \n",
       "6994  2011-08-18  17:55:32+00:00  Connor Carrick   \n",
       "\n",
       "                                                content  \n",
       "0     @jpolly22 Happened to me in TO. Next level stu...  \n",
       "1     Little chalk goes a long way. Wind was helping...  \n",
       "2     @racheldoerrie Two sides of the same coin-the ...  \n",
       "3     @LKemp42 And by honestly, I mean dishonestly. ...  \n",
       "4        @DimFilipovic What a treat to watch this today  \n",
       "...                                                 ...  \n",
       "6990     @IanBrady1 how was piestany bro #thefoodsucked  \n",
       "6991  @psieloff94 pat, his name is martin st. louis ...  \n",
       "6992  @psieloff94 i block shots like its my job #cal...  \n",
       "6993  @filthyGRINDer9 haha i got mine done yesterday...  \n",
       "6994  @MilesKoules forehand backhand upstairs #where...  \n",
       "\n",
       "[6995 rows x 4 columns]"
      ]
     },
     "execution_count": 5,
     "metadata": {},
     "output_type": "execute_result"
    }
   ],
   "source": [
    "twitter_df"
   ]
  },
  {
   "cell_type": "code",
   "execution_count": 6,
   "metadata": {},
   "outputs": [
    {
     "name": "stdout",
     "output_type": "stream",
     "text": [
      "241\n"
     ]
    }
   ],
   "source": [
    "game_list = []\n",
    "gm_dates = stat_df.iloc[:,0]\n",
    "for gm in gm_dates:\n",
    "    game_list.append(gm)\n",
    "    \n",
    "print(len(game_list))"
   ]
  },
  {
   "cell_type": "code",
   "execution_count": 7,
   "metadata": {},
   "outputs": [
    {
     "name": "stdout",
     "output_type": "stream",
     "text": [
      "105 good points of data, 8 postgame tweets\n"
     ]
    }
   ],
   "source": [
    "data_points = []\n",
    "post_game = 0\n",
    "tweet_dates = twitter_df.iloc[:,0]\n",
    "tweet_times = twitter_df.iloc[:,1]\n",
    "for gm, tm in zip(tweet_dates, tweet_times):\n",
    "    if gm in game_list:\n",
    "        \n",
    "        hr = int(tm[:2])\n",
    "        if hr < 19:\n",
    "            data_points.append(gm)\n",
    "        else:\n",
    "            post_game += 1\n",
    "\n",
    "print(f'{len(data_points)} good points of data, {post_game} postgame tweets')"
   ]
  },
  {
   "cell_type": "code",
   "execution_count": 10,
   "metadata": {},
   "outputs": [
    {
     "name": "stdout",
     "output_type": "stream",
     "text": [
      "2021-05-04 00:00:00\n",
      "2021-05-01 00:00:00\n",
      "2021-04-24 00:00:00\n",
      "2021-04-20 00:00:00\n",
      "2020-03-07 00:00:00\n",
      "2020-02-04 00:00:00\n",
      "2020-02-01 00:00:00\n",
      "2020-01-12 00:00:00\n",
      "2019-04-04 00:00:00\n",
      "2019-03-29 00:00:00\n",
      "2019-03-02 00:00:00\n",
      "2018-04-05 00:00:00\n",
      "2018-04-05 00:00:00\n",
      "2018-03-20 00:00:00\n",
      "2018-03-17 00:00:00\n",
      "2018-03-05 00:00:00\n",
      "2018-02-27 00:00:00\n",
      "2018-02-22 00:00:00\n",
      "2018-02-22 00:00:00\n",
      "2018-02-03 00:00:00\n",
      "2018-02-03 00:00:00\n",
      "2018-01-31 00:00:00\n",
      "2018-01-25 00:00:00\n",
      "2018-01-24 00:00:00\n",
      "2018-01-06 00:00:00\n",
      "2017-12-23 00:00:00\n",
      "2017-12-23 00:00:00\n",
      "2017-11-24 00:00:00\n",
      "2017-11-22 00:00:00\n",
      "2017-11-01 00:00:00\n",
      "2017-02-14 00:00:00\n",
      "2017-02-07 00:00:00\n",
      "2017-02-06 00:00:00\n",
      "2017-02-06 00:00:00\n",
      "2017-02-06 00:00:00\n",
      "2017-02-06 00:00:00\n",
      "2017-01-25 00:00:00\n",
      "2017-01-14 00:00:00\n",
      "2017-01-06 00:00:00\n",
      "2017-01-01 00:00:00\n",
      "2016-12-22 00:00:00\n",
      "2016-12-17 00:00:00\n",
      "2016-12-15 00:00:00\n",
      "2016-11-03 00:00:00\n",
      "2016-11-03 00:00:00\n",
      "2016-11-03 00:00:00\n",
      "2016-11-03 00:00:00\n",
      "2016-11-03 00:00:00\n",
      "2016-03-03 00:00:00\n",
      "2014-04-13 00:00:00\n",
      "2014-04-13 00:00:00\n",
      "2014-04-13 00:00:00\n",
      "2014-04-13 00:00:00\n",
      "2014-04-11 00:00:00\n",
      "2014-04-11 00:00:00\n",
      "2014-04-10 00:00:00\n",
      "2014-04-10 00:00:00\n",
      "2014-04-10 00:00:00\n",
      "2014-04-10 00:00:00\n",
      "2014-04-08 00:00:00\n",
      "2014-04-08 00:00:00\n",
      "2014-03-16 00:00:00\n",
      "2014-03-14 00:00:00\n",
      "2014-03-11 00:00:00\n",
      "2014-03-11 00:00:00\n",
      "2014-03-10 00:00:00\n",
      "2014-03-10 00:00:00\n",
      "2014-03-10 00:00:00\n",
      "2014-03-06 00:00:00\n",
      "2014-03-06 00:00:00\n",
      "2014-03-05 00:00:00\n",
      "2014-03-05 00:00:00\n",
      "2014-03-05 00:00:00\n",
      "2014-03-05 00:00:00\n",
      "2014-03-05 00:00:00\n",
      "2014-03-05 00:00:00\n",
      "2014-03-05 00:00:00\n",
      "2014-03-05 00:00:00\n",
      "2014-03-05 00:00:00\n",
      "2014-03-05 00:00:00\n",
      "2014-03-05 00:00:00\n",
      "2014-03-05 00:00:00\n",
      "2014-03-05 00:00:00\n",
      "2014-03-05 00:00:00\n",
      "2014-03-05 00:00:00\n",
      "2014-03-05 00:00:00\n",
      "2014-03-01 00:00:00\n",
      "2014-03-01 00:00:00\n",
      "2014-03-01 00:00:00\n",
      "2014-02-27 00:00:00\n",
      "2014-02-08 00:00:00\n",
      "2014-02-08 00:00:00\n",
      "2014-02-06 00:00:00\n",
      "2014-02-06 00:00:00\n",
      "2014-02-06 00:00:00\n",
      "2014-02-04 00:00:00\n",
      "2014-02-02 00:00:00\n",
      "2014-02-02 00:00:00\n",
      "2014-01-31 00:00:00\n",
      "2014-01-28 00:00:00\n",
      "2014-01-28 00:00:00\n",
      "2014-01-21 00:00:00\n",
      "2014-01-19 00:00:00\n",
      "2014-01-19 00:00:00\n",
      "2014-01-17 00:00:00\n",
      "2014-01-17 00:00:00\n",
      "2014-01-15 00:00:00\n",
      "2013-10-05 00:00:00\n",
      "2013-10-03 00:00:00\n",
      "2013-10-03 00:00:00\n",
      "2013-10-03 00:00:00\n",
      "2013-10-01 00:00:00\n",
      "2013-10-01 00:00:00\n",
      "0 good points of data, 0 postgame tweets\n"
     ]
    }
   ],
   "source": [
    "import pandas as pd\n",
    "\n",
    "data_points = []\n",
    "post_game = 0\n",
    "tweet_dates = twitter_df.iloc[:,0]\n",
    "#tweet_times = twitter_df.iloc[:,1]\n",
    "for gm in tweet_dates:\n",
    "    ymd = gm[:10]\n",
    "    if ymd in game_list:\n",
    "        gm_time = f'{ymd} 00:00:00-05:00'\n",
    "        gm_time = pd.to_datetime(gm_time)\n",
    "        gm = pd.to_datetime(gm)\n",
    "        #hr = int(tm[:2])\n",
    "        print(gm)\n",
    "        '''\n",
    "        if gm < gm_time:\n",
    "            data_points.append(gm)\n",
    "        else:\n",
    "            post_game += 1\n",
    "        '''\n",
    "\n",
    "print(f'{len(data_points)} good points of data, {post_game} postgame tweets')"
   ]
  },
  {
   "cell_type": "code",
   "execution_count": 8,
   "metadata": {},
   "outputs": [
    {
     "name": "stdout",
     "output_type": "stream",
     "text": [
      "2014-03-18 00:49:01-04:00\n",
      "2013-03-24 00:03:45-04:00\n",
      "2013-03-14 00:04:50-04:00\n",
      "2013-03-14 00:00:46-04:00\n"
     ]
    }
   ],
   "source": [
    "for d in data_points:\n",
    "    print(d)"
   ]
  },
  {
   "cell_type": "markdown",
   "metadata": {},
   "source": [
    "Maybe need to include puck drop times? Would require altering stat scraper, and likely slowing it down signifigantly, to the magnitute of rendering an entire new webpage in beautfiul soup per row in the dataset. For Ovechkin this would include 1228 pages! Maybe I should use selenium as an alternative. However at least for Ovechkin, no gameday tweets were scheduled for 7pm EST. BRB Looking at tweet timestamps"
   ]
  },
  {
   "cell_type": "code",
   "execution_count": 9,
   "metadata": {},
   "outputs": [],
   "source": [
    "for point in data_points:\n",
    "    print(point)"
   ]
  },
  {
   "cell_type": "code",
   "execution_count": null,
   "metadata": {},
   "outputs": [],
   "source": []
  }
 ],
 "metadata": {
  "kernelspec": {
   "display_name": "Python 3",
   "language": "python",
   "name": "python3"
  },
  "language_info": {
   "codemirror_mode": {
    "name": "ipython",
    "version": 3
   },
   "file_extension": ".py",
   "mimetype": "text/x-python",
   "name": "python",
   "nbconvert_exporter": "python",
   "pygments_lexer": "ipython3",
   "version": "3.8.5"
  }
 },
 "nbformat": 4,
 "nbformat_minor": 4
}
